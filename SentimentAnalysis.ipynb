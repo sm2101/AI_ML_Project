{
  "nbformat": 4,
  "nbformat_minor": 0,
  "metadata": {
    "kernelspec": {
      "name": "python3",
      "display_name": "Python 3.9.5 64-bit"
    },
    "language_info": {
      "name": "python",
      "version": "3.9.5",
      "mimetype": "text/x-python",
      "codemirror_mode": {
        "name": "ipython",
        "version": 3
      },
      "pygments_lexer": "ipython3",
      "nbconvert_exporter": "python",
      "file_extension": ".py"
    },
    "colab": {
      "name": "SentimentAnalysis.ipynb",
      "provenance": [],
      "collapsed_sections": [
        "E9QUyMqy2rwb",
        "PhBgKuQc2rwo",
        "kyKadAhG2rwt",
        "H99oQFNa2rwv",
        "Opgr4erW2rw0",
        "WvMBxKcY2rw7"
      ]
    },
    "interpreter": {
      "hash": "916dbcbb3f70747c44a77c7bcd40155683ae19c65e1c03b4aa3499c5328201f1"
    },
    "accelerator": "GPU"
  },
  "cells": [
    {
      "cell_type": "code",
      "metadata": {
        "_uuid": "8f2839f25d086af736a60e9eeb907d3b93b6e0e5",
        "_cell_guid": "b1076dfc-b9ad-4769-8c92-a6c4dae69d19",
        "trusted": true,
        "id": "DZx9PHee2rvx"
      },
      "source": [
        "import json\n",
        "import re\n",
        "\n",
        "import numpy as np \n",
        "import pandas as pd\n",
        "from keras.models import Model\n",
        "from keras.layers import Input, Dense, Embedding, SpatialDropout1D, add, concatenate\n",
        "from keras.layers import CuDNNLSTM, Bidirectional, GlobalMaxPooling1D, GlobalAveragePooling1D\n",
        "from keras.callbacks import Callback, ModelCheckpoint\n",
        "from keras.preprocessing import text, sequence\n",
        "from tensorflow.keras.utils import to_categorical\n",
        "from sklearn.model_selection import train_test_split\n",
        "from sklearn.metrics import classification_report\n",
        "from tqdm import tqdm\n",
        "import warnings\n",
        "warnings.filterwarnings('ignore')"
      ],
      "execution_count": null,
      "outputs": []
    },
    {
      "cell_type": "code",
      "metadata": {
        "trusted": true,
        "id": "lrQkT_hz2rv1"
      },
      "source": [
        "tqdm.pandas()"
      ],
      "execution_count": null,
      "outputs": []
    },
    {
      "cell_type": "markdown",
      "metadata": {
        "id": "Wiad5mTh2rv4"
      },
      "source": [
        "# Preprocessing"
      ]
    },
    {
      "cell_type": "code",
      "metadata": {
        "colab": {
          "base_uri": "https://localhost:8080/"
        },
        "id": "H10_WvIVuDJ2",
        "outputId": "da22a105-9503-4b12-e91a-0ec7950682f3"
      },
      "source": [
        "from google.colab import drive\n",
        "drive.mount('/content/gdrive')"
      ],
      "execution_count": null,
      "outputs": [
        {
          "output_type": "stream",
          "name": "stdout",
          "text": [
            "Mounted at /content/gdrive\n"
          ]
        }
      ]
    },
    {
      "cell_type": "markdown",
      "metadata": {
        "id": "vQCS_O682rv4"
      },
      "source": [
        "## Loading data"
      ]
    },
    {
      "cell_type": "code",
      "metadata": {
        "_cell_guid": "79c7e3d0-c299-4dcb-8224-4455121ee9b0",
        "_uuid": "d629ff2d2480ee46fbb7e2d37f6b5fab8052498a",
        "trusted": true,
        "id": "6qgWAkjN2rv4",
        "colab": {
          "base_uri": "https://localhost:8080/",
          "height": 605
        },
        "outputId": "eb51fd90-103b-45d1-a1c5-5b1f9b7e5403"
      },
      "source": [
        "zomato_orgnl = pd.read_csv('gdrive/MyDrive/zomato_og.csv', encoding='latin-1')\n",
        "zomato_orgnl = zomato_orgnl.iloc[:25000,:]\n",
        "print(zomato_orgnl.shape)\n",
        "zomato_orgnl.head()"
      ],
      "execution_count": null,
      "outputs": [
        {
          "output_type": "stream",
          "name": "stdout",
          "text": [
            "(25000, 17)\n"
          ]
        },
        {
          "output_type": "execute_result",
          "data": {
            "text/html": [
              "<div>\n",
              "<style scoped>\n",
              "    .dataframe tbody tr th:only-of-type {\n",
              "        vertical-align: middle;\n",
              "    }\n",
              "\n",
              "    .dataframe tbody tr th {\n",
              "        vertical-align: top;\n",
              "    }\n",
              "\n",
              "    .dataframe thead th {\n",
              "        text-align: right;\n",
              "    }\n",
              "</style>\n",
              "<table border=\"1\" class=\"dataframe\">\n",
              "  <thead>\n",
              "    <tr style=\"text-align: right;\">\n",
              "      <th></th>\n",
              "      <th>url</th>\n",
              "      <th>address</th>\n",
              "      <th>name</th>\n",
              "      <th>online_order</th>\n",
              "      <th>book_table</th>\n",
              "      <th>rate</th>\n",
              "      <th>votes</th>\n",
              "      <th>phone</th>\n",
              "      <th>location</th>\n",
              "      <th>rest_type</th>\n",
              "      <th>dish_liked</th>\n",
              "      <th>cuisines</th>\n",
              "      <th>approx_cost(for two people)</th>\n",
              "      <th>reviews_list</th>\n",
              "      <th>menu_item</th>\n",
              "      <th>listed_in(type)</th>\n",
              "      <th>listed_in(city)</th>\n",
              "    </tr>\n",
              "  </thead>\n",
              "  <tbody>\n",
              "    <tr>\n",
              "      <th>0</th>\n",
              "      <td>https://www.zomato.com/bangalore/jalsa-banasha...</td>\n",
              "      <td>942, 21st Main Road, 2nd Stage, Banashankari, ...</td>\n",
              "      <td>Jalsa</td>\n",
              "      <td>Yes</td>\n",
              "      <td>Yes</td>\n",
              "      <td>4.1/5</td>\n",
              "      <td>775</td>\n",
              "      <td>080 42297555\\r\\n+91 9743772233</td>\n",
              "      <td>Banashankari</td>\n",
              "      <td>Casual Dining</td>\n",
              "      <td>Pasta, Lunch Buffet, Masala Papad, Paneer Laja...</td>\n",
              "      <td>North Indian, Mughlai, Chinese</td>\n",
              "      <td>800</td>\n",
              "      <td>[('Rated 4.0', 'RATED\\n  A beautiful place to ...</td>\n",
              "      <td>[]</td>\n",
              "      <td>Buffet</td>\n",
              "      <td>Banashankari</td>\n",
              "    </tr>\n",
              "    <tr>\n",
              "      <th>1</th>\n",
              "      <td>https://www.zomato.com/bangalore/spice-elephan...</td>\n",
              "      <td>2nd Floor, 80 Feet Road, Near Big Bazaar, 6th ...</td>\n",
              "      <td>Spice Elephant</td>\n",
              "      <td>Yes</td>\n",
              "      <td>No</td>\n",
              "      <td>4.1/5</td>\n",
              "      <td>787</td>\n",
              "      <td>080 41714161</td>\n",
              "      <td>Banashankari</td>\n",
              "      <td>Casual Dining</td>\n",
              "      <td>Momos, Lunch Buffet, Chocolate Nirvana, Thai G...</td>\n",
              "      <td>Chinese, North Indian, Thai</td>\n",
              "      <td>800</td>\n",
              "      <td>[('Rated 4.0', 'RATED\\n  Had been here for din...</td>\n",
              "      <td>[]</td>\n",
              "      <td>Buffet</td>\n",
              "      <td>Banashankari</td>\n",
              "    </tr>\n",
              "    <tr>\n",
              "      <th>2</th>\n",
              "      <td>https://www.zomato.com/SanchurroBangalore?cont...</td>\n",
              "      <td>1112, Next to KIMS Medical College, 17th Cross...</td>\n",
              "      <td>San Churro Cafe</td>\n",
              "      <td>Yes</td>\n",
              "      <td>No</td>\n",
              "      <td>3.8/5</td>\n",
              "      <td>918</td>\n",
              "      <td>+91 9663487993</td>\n",
              "      <td>Banashankari</td>\n",
              "      <td>Cafe, Casual Dining</td>\n",
              "      <td>Churros, Cannelloni, Minestrone Soup, Hot Choc...</td>\n",
              "      <td>Cafe, Mexican, Italian</td>\n",
              "      <td>800</td>\n",
              "      <td>[('Rated 3.0', \"RATED\\n  Ambience is not that ...</td>\n",
              "      <td>[]</td>\n",
              "      <td>Buffet</td>\n",
              "      <td>Banashankari</td>\n",
              "    </tr>\n",
              "    <tr>\n",
              "      <th>3</th>\n",
              "      <td>https://www.zomato.com/bangalore/addhuri-udupi...</td>\n",
              "      <td>1st Floor, Annakuteera, 3rd Stage, Banashankar...</td>\n",
              "      <td>Addhuri Udupi Bhojana</td>\n",
              "      <td>No</td>\n",
              "      <td>No</td>\n",
              "      <td>3.7/5</td>\n",
              "      <td>88</td>\n",
              "      <td>+91 9620009302</td>\n",
              "      <td>Banashankari</td>\n",
              "      <td>Quick Bites</td>\n",
              "      <td>Masala Dosa</td>\n",
              "      <td>South Indian, North Indian</td>\n",
              "      <td>300</td>\n",
              "      <td>[('Rated 4.0', \"RATED\\n  Great food and proper...</td>\n",
              "      <td>[]</td>\n",
              "      <td>Buffet</td>\n",
              "      <td>Banashankari</td>\n",
              "    </tr>\n",
              "    <tr>\n",
              "      <th>4</th>\n",
              "      <td>https://www.zomato.com/bangalore/grand-village...</td>\n",
              "      <td>10, 3rd Floor, Lakshmi Associates, Gandhi Baza...</td>\n",
              "      <td>Grand Village</td>\n",
              "      <td>No</td>\n",
              "      <td>No</td>\n",
              "      <td>3.8/5</td>\n",
              "      <td>166</td>\n",
              "      <td>+91 8026612447\\r\\n+91 9901210005</td>\n",
              "      <td>Basavanagudi</td>\n",
              "      <td>Casual Dining</td>\n",
              "      <td>Panipuri, Gol Gappe</td>\n",
              "      <td>North Indian, Rajasthani</td>\n",
              "      <td>600</td>\n",
              "      <td>[('Rated 4.0', 'RATED\\n  Very good restaurant ...</td>\n",
              "      <td>[]</td>\n",
              "      <td>Buffet</td>\n",
              "      <td>Banashankari</td>\n",
              "    </tr>\n",
              "  </tbody>\n",
              "</table>\n",
              "</div>"
            ],
            "text/plain": [
              "                                                 url  ... listed_in(city)\n",
              "0  https://www.zomato.com/bangalore/jalsa-banasha...  ...    Banashankari\n",
              "1  https://www.zomato.com/bangalore/spice-elephan...  ...    Banashankari\n",
              "2  https://www.zomato.com/SanchurroBangalore?cont...  ...    Banashankari\n",
              "3  https://www.zomato.com/bangalore/addhuri-udupi...  ...    Banashankari\n",
              "4  https://www.zomato.com/bangalore/grand-village...  ...    Banashankari\n",
              "\n",
              "[5 rows x 17 columns]"
            ]
          },
          "metadata": {},
          "execution_count": 4
        }
      ]
    },
    {
      "cell_type": "code",
      "metadata": {
        "trusted": true,
        "id": "aZU4d4nu2rv7"
      },
      "source": [
        "#Deleting Unnnecessary Columns\n",
        "zomato=zomato_orgnl.drop(['url','dish_liked','phone'],axis=1) "
      ],
      "execution_count": null,
      "outputs": []
    },
    {
      "cell_type": "code",
      "metadata": {
        "trusted": true,
        "id": "4V-OTyCW2rv9"
      },
      "source": [
        "#Removing the Duplicates\n",
        "zomato.duplicated().sum()\n",
        "zomato.drop_duplicates(inplace=True)"
      ],
      "execution_count": null,
      "outputs": []
    },
    {
      "cell_type": "code",
      "metadata": {
        "colab": {
          "base_uri": "https://localhost:8080/",
          "height": 1000
        },
        "id": "cODTOtCIHoPn",
        "outputId": "c6e751b7-4b47-44d8-cecc-2ef0295a17ed"
      },
      "source": [
        "zomato"
      ],
      "execution_count": null,
      "outputs": [
        {
          "output_type": "execute_result",
          "data": {
            "text/html": [
              "<div>\n",
              "<style scoped>\n",
              "    .dataframe tbody tr th:only-of-type {\n",
              "        vertical-align: middle;\n",
              "    }\n",
              "\n",
              "    .dataframe tbody tr th {\n",
              "        vertical-align: top;\n",
              "    }\n",
              "\n",
              "    .dataframe thead th {\n",
              "        text-align: right;\n",
              "    }\n",
              "</style>\n",
              "<table border=\"1\" class=\"dataframe\">\n",
              "  <thead>\n",
              "    <tr style=\"text-align: right;\">\n",
              "      <th></th>\n",
              "      <th>address</th>\n",
              "      <th>name</th>\n",
              "      <th>online_order</th>\n",
              "      <th>book_table</th>\n",
              "      <th>rate</th>\n",
              "      <th>votes</th>\n",
              "      <th>location</th>\n",
              "      <th>rest_type</th>\n",
              "      <th>cuisines</th>\n",
              "      <th>approx_cost(for two people)</th>\n",
              "      <th>reviews_list</th>\n",
              "      <th>menu_item</th>\n",
              "      <th>listed_in(type)</th>\n",
              "      <th>listed_in(city)</th>\n",
              "    </tr>\n",
              "  </thead>\n",
              "  <tbody>\n",
              "    <tr>\n",
              "      <th>0</th>\n",
              "      <td>942, 21st Main Road, 2nd Stage, Banashankari, ...</td>\n",
              "      <td>Jalsa</td>\n",
              "      <td>Yes</td>\n",
              "      <td>Yes</td>\n",
              "      <td>4.1/5</td>\n",
              "      <td>775</td>\n",
              "      <td>Banashankari</td>\n",
              "      <td>Casual Dining</td>\n",
              "      <td>North Indian, Mughlai, Chinese</td>\n",
              "      <td>800</td>\n",
              "      <td>[('Rated 4.0', 'RATED\\n  A beautiful place to ...</td>\n",
              "      <td>[]</td>\n",
              "      <td>Buffet</td>\n",
              "      <td>Banashankari</td>\n",
              "    </tr>\n",
              "    <tr>\n",
              "      <th>1</th>\n",
              "      <td>2nd Floor, 80 Feet Road, Near Big Bazaar, 6th ...</td>\n",
              "      <td>Spice Elephant</td>\n",
              "      <td>Yes</td>\n",
              "      <td>No</td>\n",
              "      <td>4.1/5</td>\n",
              "      <td>787</td>\n",
              "      <td>Banashankari</td>\n",
              "      <td>Casual Dining</td>\n",
              "      <td>Chinese, North Indian, Thai</td>\n",
              "      <td>800</td>\n",
              "      <td>[('Rated 4.0', 'RATED\\n  Had been here for din...</td>\n",
              "      <td>[]</td>\n",
              "      <td>Buffet</td>\n",
              "      <td>Banashankari</td>\n",
              "    </tr>\n",
              "    <tr>\n",
              "      <th>2</th>\n",
              "      <td>1112, Next to KIMS Medical College, 17th Cross...</td>\n",
              "      <td>San Churro Cafe</td>\n",
              "      <td>Yes</td>\n",
              "      <td>No</td>\n",
              "      <td>3.8/5</td>\n",
              "      <td>918</td>\n",
              "      <td>Banashankari</td>\n",
              "      <td>Cafe, Casual Dining</td>\n",
              "      <td>Cafe, Mexican, Italian</td>\n",
              "      <td>800</td>\n",
              "      <td>[('Rated 3.0', \"RATED\\n  Ambience is not that ...</td>\n",
              "      <td>[]</td>\n",
              "      <td>Buffet</td>\n",
              "      <td>Banashankari</td>\n",
              "    </tr>\n",
              "    <tr>\n",
              "      <th>3</th>\n",
              "      <td>1st Floor, Annakuteera, 3rd Stage, Banashankar...</td>\n",
              "      <td>Addhuri Udupi Bhojana</td>\n",
              "      <td>No</td>\n",
              "      <td>No</td>\n",
              "      <td>3.7/5</td>\n",
              "      <td>88</td>\n",
              "      <td>Banashankari</td>\n",
              "      <td>Quick Bites</td>\n",
              "      <td>South Indian, North Indian</td>\n",
              "      <td>300</td>\n",
              "      <td>[('Rated 4.0', \"RATED\\n  Great food and proper...</td>\n",
              "      <td>[]</td>\n",
              "      <td>Buffet</td>\n",
              "      <td>Banashankari</td>\n",
              "    </tr>\n",
              "    <tr>\n",
              "      <th>4</th>\n",
              "      <td>10, 3rd Floor, Lakshmi Associates, Gandhi Baza...</td>\n",
              "      <td>Grand Village</td>\n",
              "      <td>No</td>\n",
              "      <td>No</td>\n",
              "      <td>3.8/5</td>\n",
              "      <td>166</td>\n",
              "      <td>Basavanagudi</td>\n",
              "      <td>Casual Dining</td>\n",
              "      <td>North Indian, Rajasthani</td>\n",
              "      <td>600</td>\n",
              "      <td>[('Rated 4.0', 'RATED\\n  Very good restaurant ...</td>\n",
              "      <td>[]</td>\n",
              "      <td>Buffet</td>\n",
              "      <td>Banashankari</td>\n",
              "    </tr>\n",
              "    <tr>\n",
              "      <th>...</th>\n",
              "      <td>...</td>\n",
              "      <td>...</td>\n",
              "      <td>...</td>\n",
              "      <td>...</td>\n",
              "      <td>...</td>\n",
              "      <td>...</td>\n",
              "      <td>...</td>\n",
              "      <td>...</td>\n",
              "      <td>...</td>\n",
              "      <td>...</td>\n",
              "      <td>...</td>\n",
              "      <td>...</td>\n",
              "      <td>...</td>\n",
              "      <td>...</td>\n",
              "    </tr>\n",
              "    <tr>\n",
              "      <th>24995</th>\n",
              "      <td>117/1, Near Shilpa Bakery, Horamavu - Agara Ma...</td>\n",
              "      <td>Teapoy Mutiny</td>\n",
              "      <td>Yes</td>\n",
              "      <td>No</td>\n",
              "      <td>4.1/5</td>\n",
              "      <td>98</td>\n",
              "      <td>Hennur</td>\n",
              "      <td>Cafe</td>\n",
              "      <td>Cafe, Continental, American, Beverages</td>\n",
              "      <td>500</td>\n",
              "      <td>[('Rated 4.0', \"RATED\\n  Nice place to hangout...</td>\n",
              "      <td>[]</td>\n",
              "      <td>Dine-out</td>\n",
              "      <td>Kalyan Nagar</td>\n",
              "    </tr>\n",
              "    <tr>\n",
              "      <th>24996</th>\n",
              "      <td>544, 3rd Main, 4th Cross, OMBR Layout, Banaswa...</td>\n",
              "      <td>Patio - The Resto Cafe</td>\n",
              "      <td>Yes</td>\n",
              "      <td>No</td>\n",
              "      <td>3.7/5</td>\n",
              "      <td>73</td>\n",
              "      <td>Banaswadi</td>\n",
              "      <td>Cafe, Quick Bites</td>\n",
              "      <td>Cafe, Continental, Chinese, Momos</td>\n",
              "      <td>500</td>\n",
              "      <td>[('Rated 5.0', 'RATED\\n  The place has a nice ...</td>\n",
              "      <td>['Veg Steamed Momos', 'Chicken Shanghai Fried ...</td>\n",
              "      <td>Dine-out</td>\n",
              "      <td>Kalyan Nagar</td>\n",
              "    </tr>\n",
              "    <tr>\n",
              "      <th>24997</th>\n",
              "      <td>653,/2, Annaiah Reddy Layout, 100 Feet Road, B...</td>\n",
              "      <td>Sufi Restaurant &amp; Cafe</td>\n",
              "      <td>Yes</td>\n",
              "      <td>No</td>\n",
              "      <td>3.7/5</td>\n",
              "      <td>105</td>\n",
              "      <td>Banaswadi</td>\n",
              "      <td>Casual Dining</td>\n",
              "      <td>Iranian, Mughlai, Chinese</td>\n",
              "      <td>800</td>\n",
              "      <td>[('Rated 3.0', 'RATED\\n  Nice place for take a...</td>\n",
              "      <td>['Soup E Jo Morgh', 'Kabab E Koobideh', 'Kabab...</td>\n",
              "      <td>Dine-out</td>\n",
              "      <td>Kalyan Nagar</td>\n",
              "    </tr>\n",
              "    <tr>\n",
              "      <th>24998</th>\n",
              "      <td>1253, Near Horamavu Signal, Outer Ring Road, D...</td>\n",
              "      <td>Bhagini</td>\n",
              "      <td>Yes</td>\n",
              "      <td>No</td>\n",
              "      <td>2.3/5</td>\n",
              "      <td>119</td>\n",
              "      <td>Banaswadi</td>\n",
              "      <td>Casual Dining</td>\n",
              "      <td>Andhra, South Indian, Chinese, North Indian</td>\n",
              "      <td>800</td>\n",
              "      <td>[('Rated 2.0', \"RATED\\n  Fancy exterior with a...</td>\n",
              "      <td>['Chicken 65', 'Veg Biryani', 'Egg Biryani', '...</td>\n",
              "      <td>Dine-out</td>\n",
              "      <td>Kalyan Nagar</td>\n",
              "    </tr>\n",
              "    <tr>\n",
              "      <th>24999</th>\n",
              "      <td>4C/1008, 1st Block, HRBR Layout, Horamavu Sign...</td>\n",
              "      <td>Donne Biriyani Mane</td>\n",
              "      <td>No</td>\n",
              "      <td>No</td>\n",
              "      <td>3.8/5</td>\n",
              "      <td>161</td>\n",
              "      <td>Banaswadi</td>\n",
              "      <td>Quick Bites</td>\n",
              "      <td>Biryani</td>\n",
              "      <td>300</td>\n",
              "      <td>[('Rated 4.0', \"RATED\\n  Awesome biryani and s...</td>\n",
              "      <td>[]</td>\n",
              "      <td>Dine-out</td>\n",
              "      <td>Kalyan Nagar</td>\n",
              "    </tr>\n",
              "  </tbody>\n",
              "</table>\n",
              "<p>24969 rows × 14 columns</p>\n",
              "</div>"
            ],
            "text/plain": [
              "                                                 address  ... listed_in(city)\n",
              "0      942, 21st Main Road, 2nd Stage, Banashankari, ...  ...    Banashankari\n",
              "1      2nd Floor, 80 Feet Road, Near Big Bazaar, 6th ...  ...    Banashankari\n",
              "2      1112, Next to KIMS Medical College, 17th Cross...  ...    Banashankari\n",
              "3      1st Floor, Annakuteera, 3rd Stage, Banashankar...  ...    Banashankari\n",
              "4      10, 3rd Floor, Lakshmi Associates, Gandhi Baza...  ...    Banashankari\n",
              "...                                                  ...  ...             ...\n",
              "24995  117/1, Near Shilpa Bakery, Horamavu - Agara Ma...  ...    Kalyan Nagar\n",
              "24996  544, 3rd Main, 4th Cross, OMBR Layout, Banaswa...  ...    Kalyan Nagar\n",
              "24997  653,/2, Annaiah Reddy Layout, 100 Feet Road, B...  ...    Kalyan Nagar\n",
              "24998  1253, Near Horamavu Signal, Outer Ring Road, D...  ...    Kalyan Nagar\n",
              "24999  4C/1008, 1st Block, HRBR Layout, Horamavu Sign...  ...    Kalyan Nagar\n",
              "\n",
              "[24969 rows x 14 columns]"
            ]
          },
          "metadata": {},
          "execution_count": 7
        }
      ]
    },
    {
      "cell_type": "code",
      "metadata": {
        "trusted": true,
        "id": "DU3KFug32rv_",
        "colab": {
          "base_uri": "https://localhost:8080/"
        },
        "outputId": "4a52205c-f16c-4e27-b6d2-9760bb7de032"
      },
      "source": [
        "#Remove the NaN values from the dataset\n",
        "zomato.isnull().sum()\n",
        "zomato.dropna(how='any',inplace=True)\n",
        "zomato.info()"
      ],
      "execution_count": null,
      "outputs": [
        {
          "output_type": "stream",
          "name": "stdout",
          "text": [
            "<class 'pandas.core.frame.DataFrame'>\n",
            "Int64Index: 21113 entries, 0 to 24999\n",
            "Data columns (total 14 columns):\n",
            " #   Column                       Non-Null Count  Dtype \n",
            "---  ------                       --------------  ----- \n",
            " 0   address                      21113 non-null  object\n",
            " 1   name                         21113 non-null  object\n",
            " 2   online_order                 21113 non-null  object\n",
            " 3   book_table                   21113 non-null  object\n",
            " 4   rate                         21113 non-null  object\n",
            " 5   votes                        21113 non-null  int64 \n",
            " 6   location                     21113 non-null  object\n",
            " 7   rest_type                    21113 non-null  object\n",
            " 8   cuisines                     21113 non-null  object\n",
            " 9   approx_cost(for two people)  21113 non-null  object\n",
            " 10  reviews_list                 21113 non-null  object\n",
            " 11  menu_item                    21113 non-null  object\n",
            " 12  listed_in(type)              21113 non-null  object\n",
            " 13  listed_in(city)              21113 non-null  object\n",
            "dtypes: int64(1), object(13)\n",
            "memory usage: 2.4+ MB\n"
          ]
        }
      ]
    },
    {
      "cell_type": "code",
      "metadata": {
        "trusted": true,
        "id": "aqvK40WW2rwB",
        "colab": {
          "base_uri": "https://localhost:8080/"
        },
        "outputId": "ec006389-90f6-4584-cd2e-419814a553f7"
      },
      "source": [
        "#Changing the Columns Names\n",
        "zomato.columns\n",
        "zomato = zomato.rename(columns={'approx_cost(for two people)':'cost','listed_in(type)':'type',\n",
        "                                  'listed_in(city)':'city'})\n",
        "zomato.columns"
      ],
      "execution_count": null,
      "outputs": [
        {
          "output_type": "execute_result",
          "data": {
            "text/plain": [
              "Index(['address', 'name', 'online_order', 'book_table', 'rate', 'votes',\n",
              "       'location', 'rest_type', 'cuisines', 'cost', 'reviews_list',\n",
              "       'menu_item', 'type', 'city'],\n",
              "      dtype='object')"
            ]
          },
          "metadata": {},
          "execution_count": 9
        }
      ]
    },
    {
      "cell_type": "code",
      "metadata": {
        "colab": {
          "base_uri": "https://localhost:8080/",
          "height": 1000
        },
        "id": "WP9pUrBYHJTO",
        "outputId": "79feb9c0-415c-4321-801e-ccb0f72416f2"
      },
      "source": [
        "zomato"
      ],
      "execution_count": null,
      "outputs": [
        {
          "output_type": "execute_result",
          "data": {
            "text/html": [
              "<div>\n",
              "<style scoped>\n",
              "    .dataframe tbody tr th:only-of-type {\n",
              "        vertical-align: middle;\n",
              "    }\n",
              "\n",
              "    .dataframe tbody tr th {\n",
              "        vertical-align: top;\n",
              "    }\n",
              "\n",
              "    .dataframe thead th {\n",
              "        text-align: right;\n",
              "    }\n",
              "</style>\n",
              "<table border=\"1\" class=\"dataframe\">\n",
              "  <thead>\n",
              "    <tr style=\"text-align: right;\">\n",
              "      <th></th>\n",
              "      <th>address</th>\n",
              "      <th>name</th>\n",
              "      <th>online_order</th>\n",
              "      <th>book_table</th>\n",
              "      <th>rate</th>\n",
              "      <th>votes</th>\n",
              "      <th>location</th>\n",
              "      <th>rest_type</th>\n",
              "      <th>cuisines</th>\n",
              "      <th>cost</th>\n",
              "      <th>reviews_list</th>\n",
              "      <th>menu_item</th>\n",
              "      <th>type</th>\n",
              "      <th>city</th>\n",
              "    </tr>\n",
              "  </thead>\n",
              "  <tbody>\n",
              "    <tr>\n",
              "      <th>0</th>\n",
              "      <td>942, 21st Main Road, 2nd Stage, Banashankari, ...</td>\n",
              "      <td>Jalsa</td>\n",
              "      <td>Yes</td>\n",
              "      <td>Yes</td>\n",
              "      <td>4.1/5</td>\n",
              "      <td>775</td>\n",
              "      <td>Banashankari</td>\n",
              "      <td>Casual Dining</td>\n",
              "      <td>North Indian, Mughlai, Chinese</td>\n",
              "      <td>800</td>\n",
              "      <td>[('Rated 4.0', 'RATED\\n  A beautiful place to ...</td>\n",
              "      <td>[]</td>\n",
              "      <td>Buffet</td>\n",
              "      <td>Banashankari</td>\n",
              "    </tr>\n",
              "    <tr>\n",
              "      <th>1</th>\n",
              "      <td>2nd Floor, 80 Feet Road, Near Big Bazaar, 6th ...</td>\n",
              "      <td>Spice Elephant</td>\n",
              "      <td>Yes</td>\n",
              "      <td>No</td>\n",
              "      <td>4.1/5</td>\n",
              "      <td>787</td>\n",
              "      <td>Banashankari</td>\n",
              "      <td>Casual Dining</td>\n",
              "      <td>Chinese, North Indian, Thai</td>\n",
              "      <td>800</td>\n",
              "      <td>[('Rated 4.0', 'RATED\\n  Had been here for din...</td>\n",
              "      <td>[]</td>\n",
              "      <td>Buffet</td>\n",
              "      <td>Banashankari</td>\n",
              "    </tr>\n",
              "    <tr>\n",
              "      <th>2</th>\n",
              "      <td>1112, Next to KIMS Medical College, 17th Cross...</td>\n",
              "      <td>San Churro Cafe</td>\n",
              "      <td>Yes</td>\n",
              "      <td>No</td>\n",
              "      <td>3.8/5</td>\n",
              "      <td>918</td>\n",
              "      <td>Banashankari</td>\n",
              "      <td>Cafe, Casual Dining</td>\n",
              "      <td>Cafe, Mexican, Italian</td>\n",
              "      <td>800</td>\n",
              "      <td>[('Rated 3.0', \"RATED\\n  Ambience is not that ...</td>\n",
              "      <td>[]</td>\n",
              "      <td>Buffet</td>\n",
              "      <td>Banashankari</td>\n",
              "    </tr>\n",
              "    <tr>\n",
              "      <th>3</th>\n",
              "      <td>1st Floor, Annakuteera, 3rd Stage, Banashankar...</td>\n",
              "      <td>Addhuri Udupi Bhojana</td>\n",
              "      <td>No</td>\n",
              "      <td>No</td>\n",
              "      <td>3.7/5</td>\n",
              "      <td>88</td>\n",
              "      <td>Banashankari</td>\n",
              "      <td>Quick Bites</td>\n",
              "      <td>South Indian, North Indian</td>\n",
              "      <td>300</td>\n",
              "      <td>[('Rated 4.0', \"RATED\\n  Great food and proper...</td>\n",
              "      <td>[]</td>\n",
              "      <td>Buffet</td>\n",
              "      <td>Banashankari</td>\n",
              "    </tr>\n",
              "    <tr>\n",
              "      <th>4</th>\n",
              "      <td>10, 3rd Floor, Lakshmi Associates, Gandhi Baza...</td>\n",
              "      <td>Grand Village</td>\n",
              "      <td>No</td>\n",
              "      <td>No</td>\n",
              "      <td>3.8/5</td>\n",
              "      <td>166</td>\n",
              "      <td>Basavanagudi</td>\n",
              "      <td>Casual Dining</td>\n",
              "      <td>North Indian, Rajasthani</td>\n",
              "      <td>600</td>\n",
              "      <td>[('Rated 4.0', 'RATED\\n  Very good restaurant ...</td>\n",
              "      <td>[]</td>\n",
              "      <td>Buffet</td>\n",
              "      <td>Banashankari</td>\n",
              "    </tr>\n",
              "    <tr>\n",
              "      <th>...</th>\n",
              "      <td>...</td>\n",
              "      <td>...</td>\n",
              "      <td>...</td>\n",
              "      <td>...</td>\n",
              "      <td>...</td>\n",
              "      <td>...</td>\n",
              "      <td>...</td>\n",
              "      <td>...</td>\n",
              "      <td>...</td>\n",
              "      <td>...</td>\n",
              "      <td>...</td>\n",
              "      <td>...</td>\n",
              "      <td>...</td>\n",
              "      <td>...</td>\n",
              "    </tr>\n",
              "    <tr>\n",
              "      <th>24995</th>\n",
              "      <td>117/1, Near Shilpa Bakery, Horamavu - Agara Ma...</td>\n",
              "      <td>Teapoy Mutiny</td>\n",
              "      <td>Yes</td>\n",
              "      <td>No</td>\n",
              "      <td>4.1/5</td>\n",
              "      <td>98</td>\n",
              "      <td>Hennur</td>\n",
              "      <td>Cafe</td>\n",
              "      <td>Cafe, Continental, American, Beverages</td>\n",
              "      <td>500</td>\n",
              "      <td>[('Rated 4.0', \"RATED\\n  Nice place to hangout...</td>\n",
              "      <td>[]</td>\n",
              "      <td>Dine-out</td>\n",
              "      <td>Kalyan Nagar</td>\n",
              "    </tr>\n",
              "    <tr>\n",
              "      <th>24996</th>\n",
              "      <td>544, 3rd Main, 4th Cross, OMBR Layout, Banaswa...</td>\n",
              "      <td>Patio - The Resto Cafe</td>\n",
              "      <td>Yes</td>\n",
              "      <td>No</td>\n",
              "      <td>3.7/5</td>\n",
              "      <td>73</td>\n",
              "      <td>Banaswadi</td>\n",
              "      <td>Cafe, Quick Bites</td>\n",
              "      <td>Cafe, Continental, Chinese, Momos</td>\n",
              "      <td>500</td>\n",
              "      <td>[('Rated 5.0', 'RATED\\n  The place has a nice ...</td>\n",
              "      <td>['Veg Steamed Momos', 'Chicken Shanghai Fried ...</td>\n",
              "      <td>Dine-out</td>\n",
              "      <td>Kalyan Nagar</td>\n",
              "    </tr>\n",
              "    <tr>\n",
              "      <th>24997</th>\n",
              "      <td>653,/2, Annaiah Reddy Layout, 100 Feet Road, B...</td>\n",
              "      <td>Sufi Restaurant &amp; Cafe</td>\n",
              "      <td>Yes</td>\n",
              "      <td>No</td>\n",
              "      <td>3.7/5</td>\n",
              "      <td>105</td>\n",
              "      <td>Banaswadi</td>\n",
              "      <td>Casual Dining</td>\n",
              "      <td>Iranian, Mughlai, Chinese</td>\n",
              "      <td>800</td>\n",
              "      <td>[('Rated 3.0', 'RATED\\n  Nice place for take a...</td>\n",
              "      <td>['Soup E Jo Morgh', 'Kabab E Koobideh', 'Kabab...</td>\n",
              "      <td>Dine-out</td>\n",
              "      <td>Kalyan Nagar</td>\n",
              "    </tr>\n",
              "    <tr>\n",
              "      <th>24998</th>\n",
              "      <td>1253, Near Horamavu Signal, Outer Ring Road, D...</td>\n",
              "      <td>Bhagini</td>\n",
              "      <td>Yes</td>\n",
              "      <td>No</td>\n",
              "      <td>2.3/5</td>\n",
              "      <td>119</td>\n",
              "      <td>Banaswadi</td>\n",
              "      <td>Casual Dining</td>\n",
              "      <td>Andhra, South Indian, Chinese, North Indian</td>\n",
              "      <td>800</td>\n",
              "      <td>[('Rated 2.0', \"RATED\\n  Fancy exterior with a...</td>\n",
              "      <td>['Chicken 65', 'Veg Biryani', 'Egg Biryani', '...</td>\n",
              "      <td>Dine-out</td>\n",
              "      <td>Kalyan Nagar</td>\n",
              "    </tr>\n",
              "    <tr>\n",
              "      <th>24999</th>\n",
              "      <td>4C/1008, 1st Block, HRBR Layout, Horamavu Sign...</td>\n",
              "      <td>Donne Biriyani Mane</td>\n",
              "      <td>No</td>\n",
              "      <td>No</td>\n",
              "      <td>3.8/5</td>\n",
              "      <td>161</td>\n",
              "      <td>Banaswadi</td>\n",
              "      <td>Quick Bites</td>\n",
              "      <td>Biryani</td>\n",
              "      <td>300</td>\n",
              "      <td>[('Rated 4.0', \"RATED\\n  Awesome biryani and s...</td>\n",
              "      <td>[]</td>\n",
              "      <td>Dine-out</td>\n",
              "      <td>Kalyan Nagar</td>\n",
              "    </tr>\n",
              "  </tbody>\n",
              "</table>\n",
              "<p>21113 rows × 14 columns</p>\n",
              "</div>"
            ],
            "text/plain": [
              "                                                 address  ...          city\n",
              "0      942, 21st Main Road, 2nd Stage, Banashankari, ...  ...  Banashankari\n",
              "1      2nd Floor, 80 Feet Road, Near Big Bazaar, 6th ...  ...  Banashankari\n",
              "2      1112, Next to KIMS Medical College, 17th Cross...  ...  Banashankari\n",
              "3      1st Floor, Annakuteera, 3rd Stage, Banashankar...  ...  Banashankari\n",
              "4      10, 3rd Floor, Lakshmi Associates, Gandhi Baza...  ...  Banashankari\n",
              "...                                                  ...  ...           ...\n",
              "24995  117/1, Near Shilpa Bakery, Horamavu - Agara Ma...  ...  Kalyan Nagar\n",
              "24996  544, 3rd Main, 4th Cross, OMBR Layout, Banaswa...  ...  Kalyan Nagar\n",
              "24997  653,/2, Annaiah Reddy Layout, 100 Feet Road, B...  ...  Kalyan Nagar\n",
              "24998  1253, Near Horamavu Signal, Outer Ring Road, D...  ...  Kalyan Nagar\n",
              "24999  4C/1008, 1st Block, HRBR Layout, Horamavu Sign...  ...  Kalyan Nagar\n",
              "\n",
              "[21113 rows x 14 columns]"
            ]
          },
          "metadata": {},
          "execution_count": 10
        }
      ]
    },
    {
      "cell_type": "code",
      "metadata": {
        "trusted": true,
        "id": "MjHGwHMm2rwE",
        "colab": {
          "base_uri": "https://localhost:8080/"
        },
        "outputId": "017ae8d3-fde0-4028-d2bf-4579f652c5e1"
      },
      "source": [
        "#Some Transformations\n",
        "zomato['cost'] = zomato['cost'].astype(str)\n",
        "zomato['cost'] = zomato['cost'].apply(lambda x: x.replace(',','.'))\n",
        "zomato['cost'] = zomato['cost'].astype(float)\n",
        "zomato.info()"
      ],
      "execution_count": null,
      "outputs": [
        {
          "output_type": "stream",
          "name": "stdout",
          "text": [
            "<class 'pandas.core.frame.DataFrame'>\n",
            "Int64Index: 21113 entries, 0 to 24999\n",
            "Data columns (total 14 columns):\n",
            " #   Column        Non-Null Count  Dtype  \n",
            "---  ------        --------------  -----  \n",
            " 0   address       21113 non-null  object \n",
            " 1   name          21113 non-null  object \n",
            " 2   online_order  21113 non-null  object \n",
            " 3   book_table    21113 non-null  object \n",
            " 4   rate          21113 non-null  object \n",
            " 5   votes         21113 non-null  int64  \n",
            " 6   location      21113 non-null  object \n",
            " 7   rest_type     21113 non-null  object \n",
            " 8   cuisines      21113 non-null  object \n",
            " 9   cost          21113 non-null  float64\n",
            " 10  reviews_list  21113 non-null  object \n",
            " 11  menu_item     21113 non-null  object \n",
            " 12  type          21113 non-null  object \n",
            " 13  city          21113 non-null  object \n",
            "dtypes: float64(1), int64(1), object(12)\n",
            "memory usage: 2.4+ MB\n"
          ]
        }
      ]
    },
    {
      "cell_type": "code",
      "metadata": {
        "trusted": true,
        "id": "70djM7fk2rwH",
        "colab": {
          "base_uri": "https://localhost:8080/"
        },
        "outputId": "18b83271-7095-4243-d563-0d2689e55536"
      },
      "source": [
        "#Removing '/5' from Rates\n",
        "zomato['rate'].unique()\n",
        "zomato = zomato.loc[zomato.rate !='NEW']\n",
        "zomato = zomato.loc[zomato.rate !='-'].reset_index(drop=True)\n",
        "remove_slash = lambda x: x.replace('/5', '') if type(x) == np.str else x\n",
        "zomato.rate = zomato.rate.apply(remove_slash).str.strip().astype('float')\n",
        "zomato['rate'].head()"
      ],
      "execution_count": null,
      "outputs": [
        {
          "output_type": "execute_result",
          "data": {
            "text/plain": [
              "0    4.1\n",
              "1    4.1\n",
              "2    3.8\n",
              "3    3.7\n",
              "4    3.8\n",
              "Name: rate, dtype: float64"
            ]
          },
          "metadata": {},
          "execution_count": 12
        }
      ]
    },
    {
      "cell_type": "code",
      "metadata": {
        "trusted": true,
        "id": "bFlslpBT2rwJ"
      },
      "source": [
        "df = zomato.copy()"
      ],
      "execution_count": null,
      "outputs": []
    },
    {
      "cell_type": "markdown",
      "metadata": {
        "id": "ovtyBcES2rwL"
      },
      "source": [
        "## Retrieve the text data"
      ]
    },
    {
      "cell_type": "code",
      "metadata": {
        "trusted": true,
        "id": "GR3tV_Xl2rwL",
        "colab": {
          "base_uri": "https://localhost:8080/"
        },
        "outputId": "e76b9eff-b5fc-49f8-dee4-ee70d309c1db"
      },
      "source": [
        "all_ratings = []\n",
        "\n",
        "for ratings in tqdm(df['reviews_list']):\n",
        "    ratings = eval(ratings)\n",
        "    \n",
        "    for score, doc in ratings:\n",
        "        if score:\n",
        "            score = score.strip(\"Rated\").strip()\n",
        "            doc = doc.strip('RATED').strip()\n",
        "            \n",
        "            score = float(score)\n",
        "            all_ratings.append([score, doc])"
      ],
      "execution_count": null,
      "outputs": [
        {
          "output_type": "stream",
          "name": "stderr",
          "text": [
            "100%|██████████| 19753/19753 [00:06<00:00, 3104.49it/s]\n"
          ]
        }
      ]
    },
    {
      "cell_type": "code",
      "metadata": {
        "trusted": true,
        "id": "I-z9RRQs2rwN",
        "colab": {
          "base_uri": "https://localhost:8080/",
          "height": 218
        },
        "outputId": "d94c20ce-d632-4895-d531-de5ed18c39dd"
      },
      "source": [
        "ratings_df = pd.DataFrame(all_ratings, columns=['score', 'doc'])\n",
        "\n",
        "print(ratings_df.shape)\n",
        "ratings_df.head()"
      ],
      "execution_count": null,
      "outputs": [
        {
          "output_type": "stream",
          "name": "stdout",
          "text": [
            "(548818, 2)\n"
          ]
        },
        {
          "output_type": "execute_result",
          "data": {
            "text/html": [
              "<div>\n",
              "<style scoped>\n",
              "    .dataframe tbody tr th:only-of-type {\n",
              "        vertical-align: middle;\n",
              "    }\n",
              "\n",
              "    .dataframe tbody tr th {\n",
              "        vertical-align: top;\n",
              "    }\n",
              "\n",
              "    .dataframe thead th {\n",
              "        text-align: right;\n",
              "    }\n",
              "</style>\n",
              "<table border=\"1\" class=\"dataframe\">\n",
              "  <thead>\n",
              "    <tr style=\"text-align: right;\">\n",
              "      <th></th>\n",
              "      <th>score</th>\n",
              "      <th>doc</th>\n",
              "    </tr>\n",
              "  </thead>\n",
              "  <tbody>\n",
              "    <tr>\n",
              "      <th>0</th>\n",
              "      <td>4.0</td>\n",
              "      <td>A beautiful place to dine in.The interiors tak...</td>\n",
              "    </tr>\n",
              "    <tr>\n",
              "      <th>1</th>\n",
              "      <td>4.0</td>\n",
              "      <td>I was here for dinner with my family on a week...</td>\n",
              "    </tr>\n",
              "    <tr>\n",
              "      <th>2</th>\n",
              "      <td>2.0</td>\n",
              "      <td>Its a restaurant near to Banashankari BDA. Me ...</td>\n",
              "    </tr>\n",
              "    <tr>\n",
              "      <th>3</th>\n",
              "      <td>4.0</td>\n",
              "      <td>We went here on a weekend and one of us had th...</td>\n",
              "    </tr>\n",
              "    <tr>\n",
              "      <th>4</th>\n",
              "      <td>5.0</td>\n",
              "      <td>The best thing about the place is itÃÂÃÂ...</td>\n",
              "    </tr>\n",
              "  </tbody>\n",
              "</table>\n",
              "</div>"
            ],
            "text/plain": [
              "   score                                                doc\n",
              "0    4.0  A beautiful place to dine in.The interiors tak...\n",
              "1    4.0  I was here for dinner with my family on a week...\n",
              "2    2.0  Its a restaurant near to Banashankari BDA. Me ...\n",
              "3    4.0  We went here on a weekend and one of us had th...\n",
              "4    5.0  The best thing about the place is itÃÂÃÂ..."
            ]
          },
          "metadata": {},
          "execution_count": 15
        }
      ]
    },
    {
      "cell_type": "markdown",
      "metadata": {
        "id": "9wYh_ZlN2rwP"
      },
      "source": [
        "## Remove ratings inside text\n",
        "\n",
        "Some of the reviews have ratings within it. We want to train a generic model to predict ratings with only text, so we want to hide this extra information so the model does not overfit on that.\n",
        "\n",
        "\"Unhide\" the output of the next cell to view sample of the ratings that contain the character `\"/\"`."
      ]
    },
    {
      "cell_type": "code",
      "metadata": {
        "trusted": true,
        "_kg_hide-output": true,
        "id": "PHZ0a_HN2rwQ",
        "colab": {
          "base_uri": "https://localhost:8080/"
        },
        "outputId": "270e92ec-5399-4dff-914f-3c33fbe50dc3"
      },
      "source": [
        "docs_with_ratings = []\n",
        "for doc in ratings_df['doc'][:150]:\n",
        "    if '/' in doc:\n",
        "        print(doc)\n",
        "        docs_with_ratings.append(doc)"
      ],
      "execution_count": null,
      "outputs": [
        {
          "output_type": "stream",
          "name": "stdout",
          "text": [
            "Great food and pleasant ambience. Expensive but Coll place to chill and relax......\n",
            "\n",
            "Service is really very very good and friendly staff...\n",
            "\n",
            "Food : 5/5\n",
            "Service : 5/5\n",
            "Ambience :5/5\n",
            "Overall :5/5\n",
            "I was looking for a quite place to spend some time with family and as well wanted to try some new place. Since I was at Banashankari I thought of trying this place. The place had good rating and was part of Zomato gold. So I decided to try this place. It was a delite to see a very friendly staff and food we ordered was very tasty as well.\n",
            "\n",
            "Food : 4/5\n",
            "Ambience :3/5\n",
            "Friendly staff : 4/5\n",
            "Pocket friendly : 4/5\n",
            "\n",
            "Will definitely visit again ??\n",
            "Food: 8/10\n",
            "Ambience:8/10\n",
            "Staff:8/10\n",
            "One of the good places to try north Indian food...but depends on ur taste buds. Not everyone will like all the items here. Specially when u r particular abt sweet and spicy food.\n",
            "There's buffet available too.\n",
            "We had ordered paneer uttar dakshin and paneer kurchan..was amazing. The Gobi hara pyaz and mix veg were average.\n",
            "One of my favourite places that I often visit in South bangalore , but quality has been reduced than before. Little unhappy with the food this time.\n",
            "But their churros never dissapointed me. Staff are too slow and do not respond easily.\n",
            "\n",
            "Soups:\n",
            "Minestrone soup was like vegetable stock water with vegetables in it, not happy with it.\n",
            "\n",
            "Churros :\n",
            "It was great as usual. A must visit place if u love churros.\n",
            "\n",
            "Starters:\n",
            "1. Africano panner -\n",
            "It was bit sweet and not happy with the dish!!\n",
            "2. Loaded nachos -\n",
            "This happened to be their one of the best dishes, but now I take back my words. Very dissapointed with the dish.\n",
            "\n",
            "Main course:\n",
            "sicilia pizza\n",
            "Pizza was too good, it's a must try dish.\n",
            "\n",
            "Finally I would recommend this place for churros and pizza .\n",
            "\n",
            "Taste : 6/10\n",
            "Ambience :7/10\n",
            "Value for money : 8/10\n",
            "\n",
            "Overall experience : 7.5/10\n",
            "Been here a couple of times. Highly satisfying on both the ocassions. Great food. Decent service. At price of 160 per person it is of a great value. The staff here serves in a traditional Mysore style dresses. The food is authentic Karnataka meals. I really liked the pineapple pickle/chutney. They serve some 4 varities of rice of which you shouldn't try all as you would already be full. Roti, Dosa were decent. In the deserts, Payasam& Holige were good.\n",
            "I think it is one the must try places to try some authentic south food even if you have been to the likes of Kamath etc. this one is a little different. :)\n",
            "I went to this restaurant on Sunday afternoon.It was a bit crowded.\n",
            "\n",
            "Its located in the 1st floor Above anna kuteera kathriguppe\n",
            "\n",
            "You need to take food coupon in the ground floor itself.\n",
            "it was 160 rs.\n",
            "\n",
            "Taste wise it was good.\n",
            "Service was slow.\n",
            "Nothing exciting/different in the menu.\n",
            "Whatever they serve its good.\n",
            "Worth for money.\n",
            "Excellent Ambience with delicious meals with 10-15 variety types. Worth paying for money and you can dine out if you are with more friends/relatives in home.\n",
            "Very good restaurant in neighbourhood. Buffet system is properly arranged. Variety of dishes along with garba dance and puppet show. Good spread of desserts. Live paratha / Kulcha making\n",
            "Great service, overwhelming experience.\n",
            "\n",
            "One of its kind experience. Grand village offers you some very desi food options.\n",
            "\n",
            "Jaljeera, buttermilk, chat papdi, bhajiya, dosa, pav bhaji, noodles, and so many curries kulcha, roti, and garama garam Jalebies, gulab jamuns.\n",
            "\n",
            "Beautiful ambience of village. People serving with smiles and with full heart !!\n",
            "\n",
            "So here goes my overall ratings :\n",
            "Food : 4/5\n",
            "Ambience : 3.5/5\n",
            "Service : 4/5\n",
            "Pocket friendly : 4/5\n",
            "Food 3/5\n",
            "Ambience 3/5\n",
            "Service 3/5\n",
            "\n",
            "Had been here for family lunch. This place serves buffets too. We ordered soups, babycorn starters, butter naan, kadai panner, veg kohlapuri, pease pulav. Food was good. But the service is too slow. They will make you wait for 20 mins to get the order. This place is apt for family hangout.\n",
            "\n",
            "Cheers.\n",
            "Bakasuras Paradise!\n",
            "\n",
            "The only place that can keep the bakasuras belly happy!\n",
            "My 6th visit, and my 5th different onesta visit!\n",
            "From RR nagar, JP Nagar, Basavanagudi, Koramangala bakasura ended up at an onesta in Banashankari as well!\n",
            "Every visit , it's the unlimited meal that I have had. But, but, but there is a change that's happening. From unlimited pizza, unlimited dessert and a beverage (mocktails and everything) to unlimited pizza, one dessert and one aerated beverage (coke/Pepsi/fanta) , I have been through all! And yet, it never disappoints!\n",
            "The pizzas here are just fab and you can hardly eat like 4-5 pizzas in one sitting (bakasura can.. can you? Yes you can)\n",
            "Coming to the staff, they are great.\n",
            "Coming to the quality, it's great.\n",
            "\n",
            "To finish!\n",
            "Be like onesta!\n",
            "\n",
            "It's Bakasura Recommended\n",
            "Food- 10/10\n",
            "Ambience- 10/10\n",
            "Staff- 10/10\n",
            "Value for money- 25/10\n",
            "\n",
            "Onesta Love!\n",
            "Food : 4/5\n",
            "Service: 10/5\n",
            "So let's get over the food and the ambience first. Restaurant is big, with high roof, give a sense of space, well lit. Food is great, not mind blowing. We took the unlimited menu, and loved the bacon pizza most. Rest of the pizza was good enough. Among the deserts, the walnut tart was superb, but i didn't like the peanut-butter mousse at all.\n",
            "\n",
            "But, in spite of all that, the reason for the 5-star rating is the service we got. We were served by Mr.Nanda, who made us feel absolutely special. He didn't have to. We were a small party of just two people, we weren't ordering off the main menu, and the restaurant discourages tips. In spite of all that, he was extremely attentive (without being intrusive), engaging and helpful. I have been to quite some places, from roadside ones to five-star hotels, rarely have the service been so heart warmingly good. I hope he goes onto much much greater things in life, because he is absolutely brilliant at his work.\n",
            "Ambiance - 4/5\n",
            "Service - 4/5\n",
            "Food - 4/5\n",
            "\n",
            "Great pizza, served hot and made to order. They take note of what crusts you want for your pizza and I had the thin crust, so I could eat more, and the crust was made amazing also so was the pizza.\n",
            "The service is really good and the place is clean also. All in all wonderful place and another great restaurant part of the franchise.\n",
            "Food : 4/5\n",
            "Service: 10/5\n",
            "So let's get over the food and the ambience first. Restaurant is big, with high roof, give a sense of space, well lit. Food is great, not mind blowing. We took the unlimited menu, and loved the bacon pizza most. Rest of the pizza was good enough. Among the deserts, the walnut tart was superb, but i didn't like the peanut-butter mousse at all.\n",
            "\n",
            "But, in spite of all that, the reason for the 5-star rating is the service we got. We were served by Mr.Nanda, who made us feel absolutely special. He didn't have to. We were a small party of just two people, we weren't ordering off the main menu, and the restaurant discourages tips. In spite of all that, he was extremely attentive (without being intrusive), engaging and helpful. I have been to quite some places, from roadside ones to five-star hotels, rarely have the service been so heart warmingly good. I hope he goes onto much much greater things in life, because he is absolutely brilliant at his work.\n",
            "Ambiance - 4/5\n",
            "Service - 4/5\n",
            "Food - 4/5\n",
            "\n",
            "Great pizza, served hot and made to order. They take note of what crusts you want for your pizza and I had the thin crust, so I could eat more, and the crust was made amazing also so was the pizza.\n",
            "The service is really good and the place is clean also. All in all wonderful place and another great restaurant part of the franchise.\n",
            "Food : 4/5\n",
            "Service: 10/5\n",
            "So let's get over the food and the ambience first. Restaurant is big, with high roof, give a sense of space, well lit. Food is great, not mind blowing. We took the unlimited menu, and loved the bacon pizza most. Rest of the pizza was good enough. Among the deserts, the walnut tart was superb, but i didn't like the peanut-butter mousse at all.\n",
            "\n",
            "But, in spite of all that, the reason for the 5-star rating is the service we got. We were served by Mr.Nanda, who made us feel absolutely special. He didn't have to. We were a small party of just two people, we weren't ordering off the main menu, and the restaurant discourages tips. In spite of all that, he was extremely attentive (without being intrusive), engaging and helpful. I have been to quite some places, from roadside ones to five-star hotels, rarely have the service been so heart warmingly good. I hope he goes onto much much greater things in life, because he is absolutely brilliant at his work.\n",
            "Ambiance - 4/5\n",
            "Service - 4/5\n",
            "Food - 4/5\n",
            "\n",
            "Great pizza, served hot and made to order. They take note of what crusts you want for your pizza and I had the thin crust, so I could eat more, and the crust was made amazing also so was the pizza.\n",
            "The service is really good and the place is clean also. All in all wonderful place and another great restaurant part of the franchise.\n",
            "Food : 4/5\n",
            "Service: 10/5\n",
            "So let's get over the food and the ambience first. Restaurant is big, with high roof, give a sense of space, well lit. Food is great, not mind blowing. We took the unlimited menu, and loved the bacon pizza most. Rest of the pizza was good enough. Among the deserts, the walnut tart was superb, but i didn't like the peanut-butter mousse at all.\n",
            "\n",
            "But, in spite of all that, the reason for the 5-star rating is the service we got. We were served by Mr.Nanda, who made us feel absolutely special. He didn't have to. We were a small party of just two people, we weren't ordering off the main menu, and the restaurant discourages tips. In spite of all that, he was extremely attentive (without being intrusive), engaging and helpful. I have been to quite some places, from roadside ones to five-star hotels, rarely have the service been so heart warmingly good. I hope he goes onto much much greater things in life, because he is absolutely brilliant at his work.\n",
            "Ambiance - 4/5\n",
            "Service - 4/5\n",
            "Food - 4/5\n",
            "\n",
            "Great pizza, served hot and made to order. They take note of what crusts you want for your pizza and I had the thin crust, so I could eat more, and the crust was made amazing also so was the pizza.\n",
            "The service is really good and the place is clean also. All in all wonderful place and another great restaurant part of the franchise.\n",
            "Food : 4/5\n",
            "Service: 10/5\n",
            "So let's get over the food and the ambience first. Restaurant is big, with high roof, give a sense of space, well lit. Food is great, not mind blowing. We took the unlimited menu, and loved the bacon pizza most. Rest of the pizza was good enough. Among the deserts, the walnut tart was superb, but i didn't like the peanut-butter mousse at all.\n",
            "\n",
            "But, in spite of all that, the reason for the 5-star rating is the service we got. We were served by Mr.Nanda, who made us feel absolutely special. He didn't have to. We were a small party of just two people, we weren't ordering off the main menu, and the restaurant discourages tips. In spite of all that, he was extremely attentive (without being intrusive), engaging and helpful. I have been to quite some places, from roadside ones to five-star hotels, rarely have the service been so heart warmingly good. I hope he goes onto much much greater things in life, because he is absolutely brilliant at his work.\n",
            "Ambiance - 4/5\n",
            "Service - 4/5\n",
            "Food - 4/5\n",
            "\n",
            "Great pizza, served hot and made to order. They take note of what crusts you want for your pizza and I had the thin crust, so I could eat more, and the crust was made amazing also so was the pizza.\n",
            "The service is really good and the place is clean also. All in all wonderful place and another great restaurant part of the franchise.\n",
            "Food : 4/5\n",
            "Service: 10/5\n",
            "So let's get over the food and the ambience first. Restaurant is big, with high roof, give a sense of space, well lit. Food is great, not mind blowing. We took the unlimited menu, and loved the bacon pizza most. Rest of the pizza was good enough. Among the deserts, the walnut tart was superb, but i didn't like the peanut-butter mousse at all.\n",
            "\n",
            "But, in spite of all that, the reason for the 5-star rating is the service we got. We were served by Mr.Nanda, who made us feel absolutely special. He didn't have to. We were a small party of just two people, we weren't ordering off the main menu, and the restaurant discourages tips. In spite of all that, he was extremely attentive (without being intrusive), engaging and helpful. I have been to quite some places, from roadside ones to five-star hotels, rarely have the service been so heart warmingly good. I hope he goes onto much much greater things in life, because he is absolutely brilliant at his work.\n",
            "Ambiance - 4/5\n",
            "Service - 4/5\n",
            "Food - 4/5\n",
            "\n",
            "Great pizza, served hot and made to order. They take note of what crusts you want for your pizza and I had the thin crust, so I could eat more, and the crust was made amazing also so was the pizza.\n",
            "The service is really good and the place is clean also. All in all wonderful place and another great restaurant part of the franchise.\n",
            "Food quality 4.5/5\n",
            "Hospitality 4/5\n",
            "Management response 4.5/5\n",
            "Cleanliness 4.5/5\n",
            "\n",
            "Ordered\n",
            "1) Assorted Bruschetta - It included Tomato Delight, Herbed Mushroom and Broccoli and cheese Bruschetta.\n",
            "\n",
            "2) Mexican Veg Delight pizza - It was topped with some Bell peppers, onion and some Cherry Tomato.\n",
            "\n",
            "3) Farmhouse Special- Topped with Baby corn, Bell pepper and mushroom\n",
            "\n",
            "4)Virgin Mojitos - Mint, Lime and sprit were main ingredients.\n",
            "5) Kiwi & Basil Fizz - Kiwi syrup, Basil leaves and sprit.\n",
            "\n",
            "6)Caramel Walnut Tart\n",
            "7) Chilli chocolate tart\n",
            "8) Baked Cherry Cheesecake\n",
            "9)Penne Al Pesto\n",
            "I had been to this place with one of my friends, it's a very small place but decent. And nice place to hangout.\n",
            "Food-3.5/5\n",
            "Ambience-4/5\n",
            "Value for money 3.5/5\n",
            "Went out to try their burgers and they were pretty good. The ambience was that of a rustic pub and the people are nice. The service is pretty slow.\n",
            "Food - 3.5/5\n",
            "Ambience - 4/5\n",
            "Service - 3.5/5\n"
          ]
        }
      ]
    },
    {
      "cell_type": "code",
      "metadata": {
        "trusted": true,
        "id": "YDNLw4vf2rwS",
        "colab": {
          "base_uri": "https://localhost:8080/"
        },
        "outputId": "34e504eb-4a49-4e5e-8081-8e4997e38250"
      },
      "source": [
        "print(len(docs_with_ratings))"
      ],
      "execution_count": null,
      "outputs": [
        {
          "output_type": "stream",
          "name": "stdout",
          "text": [
            "26\n"
          ]
        }
      ]
    },
    {
      "cell_type": "markdown",
      "metadata": {
        "id": "hlPYms7s2rwU"
      },
      "source": [
        "We will use Regex to find and replace all the occurences of ratings. \n",
        "\n",
        "Let's take a look at all the parts of documents that matches the pattern `[0-9.]*[0-9]/[0-9]*[0-9]`, which correspond to any rating that has double digits (e.g. 10/10), single digits (5/5) or single digits with a fraction (e.g. 9.5/10 or 3.5/5)."
      ]
    },
    {
      "cell_type": "code",
      "metadata": {
        "trusted": true,
        "id": "9jj2CXil2rwU",
        "colab": {
          "base_uri": "https://localhost:8080/"
        },
        "outputId": "efa4979b-3fdb-4242-9101-e6ff654669ac"
      },
      "source": [
        "for docs in docs_with_ratings:\n",
        "    x = re.findall('[0-9.]*[0-9]/[0-9]*[0-9]', docs)\n",
        "    print(x)"
      ],
      "execution_count": null,
      "outputs": [
        {
          "output_type": "stream",
          "name": "stdout",
          "text": [
            "['5/5', '5/5', '5/5', '5/5']\n",
            "['4/5', '3/5', '4/5', '4/5']\n",
            "['8/10', '8/10', '8/10']\n",
            "['6/10', '7/10', '8/10', '7.5/10']\n",
            "[]\n",
            "[]\n",
            "[]\n",
            "[]\n",
            "['4/5', '3.5/5', '4/5', '4/5']\n",
            "['3/5', '3/5', '3/5']\n",
            "['10/10', '10/10', '10/10', '25/10']\n",
            "['4/5', '10/5']\n",
            "['4/5', '4/5', '4/5']\n",
            "['4/5', '10/5']\n",
            "['4/5', '4/5', '4/5']\n",
            "['4/5', '10/5']\n",
            "['4/5', '4/5', '4/5']\n",
            "['4/5', '10/5']\n",
            "['4/5', '4/5', '4/5']\n",
            "['4/5', '10/5']\n",
            "['4/5', '4/5', '4/5']\n",
            "['4/5', '10/5']\n",
            "['4/5', '4/5', '4/5']\n",
            "['4.5/5', '4/5', '4.5/5', '4.5/5']\n",
            "['3.5/5', '4/5', '3.5/5']\n",
            "['3.5/5', '4/5', '3.5/5']\n"
          ]
        }
      ]
    },
    {
      "cell_type": "markdown",
      "metadata": {
        "id": "RkPN1Gsg2rwX"
      },
      "source": [
        "We will replace them with the word \"score\", since we do not want the model to overfit on ratings that are already given in the comments."
      ]
    },
    {
      "cell_type": "code",
      "metadata": {
        "trusted": true,
        "id": "TaW7dwkV2rwX",
        "colab": {
          "base_uri": "https://localhost:8080/"
        },
        "outputId": "40476d0c-aa66-4f5f-f69c-91c56aedb9a6"
      },
      "source": [
        "doc = docs_with_ratings[0]\n",
        "subbed_doc = re.sub('[0-9.]*[0-9]/[0-9]*[0-9]', 'score', doc)\n",
        "print(\"ORIGINAL:\")\n",
        "print(doc)\n",
        "print(\"\\nSUBBED:\")\n",
        "print(subbed_doc)"
      ],
      "execution_count": null,
      "outputs": [
        {
          "output_type": "stream",
          "name": "stdout",
          "text": [
            "ORIGINAL:\n",
            "Great food and pleasant ambience. Expensive but Coll place to chill and relax......\n",
            "\n",
            "Service is really very very good and friendly staff...\n",
            "\n",
            "Food : 5/5\n",
            "Service : 5/5\n",
            "Ambience :5/5\n",
            "Overall :5/5\n",
            "\n",
            "SUBBED:\n",
            "Great food and pleasant ambience. Expensive but Coll place to chill and relax......\n",
            "\n",
            "Service is really very very good and friendly staff...\n",
            "\n",
            "Food : score\n",
            "Service : score\n",
            "Ambience :score\n",
            "Overall :score\n"
          ]
        }
      ]
    },
    {
      "cell_type": "markdown",
      "metadata": {
        "id": "qF-LbZ3a2rwZ"
      },
      "source": [
        "Now, we do it for all texts."
      ]
    },
    {
      "cell_type": "code",
      "metadata": {
        "trusted": true,
        "id": "0IM1YkvP2rwZ",
        "colab": {
          "base_uri": "https://localhost:8080/",
          "height": 202
        },
        "outputId": "f2c41315-675b-4bbc-ed71-f352b47e937a"
      },
      "source": [
        "ratings_df.head()"
      ],
      "execution_count": null,
      "outputs": [
        {
          "output_type": "execute_result",
          "data": {
            "text/html": [
              "<div>\n",
              "<style scoped>\n",
              "    .dataframe tbody tr th:only-of-type {\n",
              "        vertical-align: middle;\n",
              "    }\n",
              "\n",
              "    .dataframe tbody tr th {\n",
              "        vertical-align: top;\n",
              "    }\n",
              "\n",
              "    .dataframe thead th {\n",
              "        text-align: right;\n",
              "    }\n",
              "</style>\n",
              "<table border=\"1\" class=\"dataframe\">\n",
              "  <thead>\n",
              "    <tr style=\"text-align: right;\">\n",
              "      <th></th>\n",
              "      <th>score</th>\n",
              "      <th>doc</th>\n",
              "    </tr>\n",
              "  </thead>\n",
              "  <tbody>\n",
              "    <tr>\n",
              "      <th>0</th>\n",
              "      <td>4.0</td>\n",
              "      <td>A beautiful place to dine in.The interiors tak...</td>\n",
              "    </tr>\n",
              "    <tr>\n",
              "      <th>1</th>\n",
              "      <td>4.0</td>\n",
              "      <td>I was here for dinner with my family on a week...</td>\n",
              "    </tr>\n",
              "    <tr>\n",
              "      <th>2</th>\n",
              "      <td>2.0</td>\n",
              "      <td>Its a restaurant near to Banashankari BDA. Me ...</td>\n",
              "    </tr>\n",
              "    <tr>\n",
              "      <th>3</th>\n",
              "      <td>4.0</td>\n",
              "      <td>We went here on a weekend and one of us had th...</td>\n",
              "    </tr>\n",
              "    <tr>\n",
              "      <th>4</th>\n",
              "      <td>5.0</td>\n",
              "      <td>The best thing about the place is itÃÂÃÂ...</td>\n",
              "    </tr>\n",
              "  </tbody>\n",
              "</table>\n",
              "</div>"
            ],
            "text/plain": [
              "   score                                                doc\n",
              "0    4.0  A beautiful place to dine in.The interiors tak...\n",
              "1    4.0  I was here for dinner with my family on a week...\n",
              "2    2.0  Its a restaurant near to Banashankari BDA. Me ...\n",
              "3    4.0  We went here on a weekend and one of us had th...\n",
              "4    5.0  The best thing about the place is itÃÂÃÂ..."
            ]
          },
          "metadata": {},
          "execution_count": 20
        }
      ]
    },
    {
      "cell_type": "markdown",
      "metadata": {
        "id": "E9QUyMqy2rwb"
      },
      "source": [
        "## Text Preprocessing"
      ]
    },
    {
      "cell_type": "code",
      "metadata": {
        "trusted": true,
        "id": "UtkZyuQx2rwc",
        "colab": {
          "base_uri": "https://localhost:8080/",
          "height": 202
        },
        "outputId": "ec1f2137-ad03-4bfa-a8f1-32b352c22a8f"
      },
      "source": [
        "ratings_df.head()"
      ],
      "execution_count": null,
      "outputs": [
        {
          "output_type": "execute_result",
          "data": {
            "text/html": [
              "<div>\n",
              "<style scoped>\n",
              "    .dataframe tbody tr th:only-of-type {\n",
              "        vertical-align: middle;\n",
              "    }\n",
              "\n",
              "    .dataframe tbody tr th {\n",
              "        vertical-align: top;\n",
              "    }\n",
              "\n",
              "    .dataframe thead th {\n",
              "        text-align: right;\n",
              "    }\n",
              "</style>\n",
              "<table border=\"1\" class=\"dataframe\">\n",
              "  <thead>\n",
              "    <tr style=\"text-align: right;\">\n",
              "      <th></th>\n",
              "      <th>score</th>\n",
              "      <th>doc</th>\n",
              "    </tr>\n",
              "  </thead>\n",
              "  <tbody>\n",
              "    <tr>\n",
              "      <th>0</th>\n",
              "      <td>4.0</td>\n",
              "      <td>A beautiful place to dine in.The interiors tak...</td>\n",
              "    </tr>\n",
              "    <tr>\n",
              "      <th>1</th>\n",
              "      <td>4.0</td>\n",
              "      <td>I was here for dinner with my family on a week...</td>\n",
              "    </tr>\n",
              "    <tr>\n",
              "      <th>2</th>\n",
              "      <td>2.0</td>\n",
              "      <td>Its a restaurant near to Banashankari BDA. Me ...</td>\n",
              "    </tr>\n",
              "    <tr>\n",
              "      <th>3</th>\n",
              "      <td>4.0</td>\n",
              "      <td>We went here on a weekend and one of us had th...</td>\n",
              "    </tr>\n",
              "    <tr>\n",
              "      <th>4</th>\n",
              "      <td>5.0</td>\n",
              "      <td>The best thing about the place is itÃÂÃÂ...</td>\n",
              "    </tr>\n",
              "  </tbody>\n",
              "</table>\n",
              "</div>"
            ],
            "text/plain": [
              "   score                                                doc\n",
              "0    4.0  A beautiful place to dine in.The interiors tak...\n",
              "1    4.0  I was here for dinner with my family on a week...\n",
              "2    2.0  Its a restaurant near to Banashankari BDA. Me ...\n",
              "3    4.0  We went here on a weekend and one of us had th...\n",
              "4    5.0  The best thing about the place is itÃÂÃÂ..."
            ]
          },
          "metadata": {},
          "execution_count": 21
        }
      ]
    },
    {
      "cell_type": "code",
      "metadata": {
        "trusted": true,
        "id": "0hCmxFTo2rwd"
      },
      "source": [
        "## Lower Casing\n",
        "ratings_df['review'] = ratings_df['doc'].str.lower()"
      ],
      "execution_count": null,
      "outputs": []
    },
    {
      "cell_type": "code",
      "metadata": {
        "trusted": true,
        "id": "o9A-Z8uT2rwf"
      },
      "source": [
        "import string\n",
        "PUNCT_TO_REMOVE = string.punctuation\n",
        "def remove_punctuation(text):\n",
        "    \"\"\"custom function to remove the punctuation\"\"\"\n",
        "    return text.translate(str.maketrans('', '', PUNCT_TO_REMOVE))\n",
        "\n",
        "ratings_df['review'] = ratings_df['review'].apply(lambda text: remove_punctuation(text))"
      ],
      "execution_count": null,
      "outputs": []
    },
    {
      "cell_type": "code",
      "metadata": {
        "trusted": true,
        "id": "lhbygaP-2rwh"
      },
      "source": [
        "ratings_df=ratings_df.drop(['doc'],axis=1) "
      ],
      "execution_count": null,
      "outputs": []
    },
    {
      "cell_type": "code",
      "metadata": {
        "trusted": true,
        "id": "R0AmcDXI2rwj",
        "colab": {
          "base_uri": "https://localhost:8080/",
          "height": 112
        },
        "outputId": "81b55572-541a-43e1-9db4-c9df31f95e7b"
      },
      "source": [
        "## Removal of Stopwords\n",
        "import nltk\n",
        "from nltk.corpus import stopwords\n",
        "nltk.download('stopwords')\n",
        "STOPWORDS = set(stopwords.words('english'))\n",
        "def remove_stopwords(text):\n",
        "    \"\"\"custom function to remove the stopwords\"\"\"\n",
        "    return \" \".join([word for word in str(text).split() if word not in STOPWORDS])\n",
        "\n",
        "ratings_df['review'] = ratings_df['review'].apply(lambda text: remove_stopwords(text))\n",
        "ratings_df.sample()"
      ],
      "execution_count": null,
      "outputs": [
        {
          "output_type": "stream",
          "name": "stdout",
          "text": [
            "[nltk_data] Downloading package stopwords to /root/nltk_data...\n",
            "[nltk_data]   Unzipping corpora/stopwords.zip.\n"
          ]
        },
        {
          "output_type": "execute_result",
          "data": {
            "text/html": [
              "<div>\n",
              "<style scoped>\n",
              "    .dataframe tbody tr th:only-of-type {\n",
              "        vertical-align: middle;\n",
              "    }\n",
              "\n",
              "    .dataframe tbody tr th {\n",
              "        vertical-align: top;\n",
              "    }\n",
              "\n",
              "    .dataframe thead th {\n",
              "        text-align: right;\n",
              "    }\n",
              "</style>\n",
              "<table border=\"1\" class=\"dataframe\">\n",
              "  <thead>\n",
              "    <tr style=\"text-align: right;\">\n",
              "      <th></th>\n",
              "      <th>score</th>\n",
              "      <th>review</th>\n",
              "    </tr>\n",
              "  </thead>\n",
              "  <tbody>\n",
              "    <tr>\n",
              "      <th>261836</th>\n",
              "      <td>1.0</td>\n",
              "      <td>tonight parents ordered makkai potli shorba ma...</td>\n",
              "    </tr>\n",
              "  </tbody>\n",
              "</table>\n",
              "</div>"
            ],
            "text/plain": [
              "        score                                             review\n",
              "261836    1.0  tonight parents ordered makkai potli shorba ma..."
            ]
          },
          "metadata": {},
          "execution_count": 25
        }
      ]
    },
    {
      "cell_type": "code",
      "metadata": {
        "trusted": true,
        "id": "F4IKy2222rwl",
        "colab": {
          "base_uri": "https://localhost:8080/",
          "height": 141
        },
        "outputId": "f200ff24-cbb3-45a7-a35c-6c2105d84973"
      },
      "source": [
        "## Removal of urls\n",
        "def remove_urls(text):\n",
        "    url_pattern = re.compile(r'https?://\\S+|www\\.\\S+')\n",
        "    return url_pattern.sub(r'', text)\n",
        "\n",
        "ratings_df['review'] = ratings_df['review'].apply(lambda text: remove_urls(text))\n",
        "ratings_df.sample(3)"
      ],
      "execution_count": null,
      "outputs": [
        {
          "output_type": "execute_result",
          "data": {
            "text/html": [
              "<div>\n",
              "<style scoped>\n",
              "    .dataframe tbody tr th:only-of-type {\n",
              "        vertical-align: middle;\n",
              "    }\n",
              "\n",
              "    .dataframe tbody tr th {\n",
              "        vertical-align: top;\n",
              "    }\n",
              "\n",
              "    .dataframe thead th {\n",
              "        text-align: right;\n",
              "    }\n",
              "</style>\n",
              "<table border=\"1\" class=\"dataframe\">\n",
              "  <thead>\n",
              "    <tr style=\"text-align: right;\">\n",
              "      <th></th>\n",
              "      <th>score</th>\n",
              "      <th>review</th>\n",
              "    </tr>\n",
              "  </thead>\n",
              "  <tbody>\n",
              "    <tr>\n",
              "      <th>447532</th>\n",
              "      <td>5.0</td>\n",
              "      <td>sambram biriyani paradise located jp nagar 3rd...</td>\n",
              "    </tr>\n",
              "    <tr>\n",
              "      <th>335767</th>\n",
              "      <td>4.0</td>\n",
              "      <td>everything ok except packing</td>\n",
              "    </tr>\n",
              "    <tr>\n",
              "      <th>272071</th>\n",
              "      <td>4.5</td>\n",
              "      <td>nice cafe good ambience wood fired pizza place...</td>\n",
              "    </tr>\n",
              "  </tbody>\n",
              "</table>\n",
              "</div>"
            ],
            "text/plain": [
              "        score                                             review\n",
              "447532    5.0  sambram biriyani paradise located jp nagar 3rd...\n",
              "335767    4.0                       everything ok except packing\n",
              "272071    4.5  nice cafe good ambience wood fired pizza place..."
            ]
          },
          "metadata": {},
          "execution_count": 26
        }
      ]
    },
    {
      "cell_type": "markdown",
      "metadata": {
        "id": "PhBgKuQc2rwo"
      },
      "source": [
        "## One Hot Encoding"
      ]
    },
    {
      "cell_type": "markdown",
      "metadata": {
        "id": "JG-lMI6I2rwo"
      },
      "source": [
        "Let's look at the distribution of ratings"
      ]
    },
    {
      "cell_type": "code",
      "metadata": {
        "trusted": true,
        "id": "H_yc9P1j2rwp",
        "colab": {
          "base_uri": "https://localhost:8080/"
        },
        "outputId": "1e11c2b6-99e4-4056-e1fa-cd2331f0a34a"
      },
      "source": [
        "ratings_df['score'].astype('category').value_counts()"
      ],
      "execution_count": null,
      "outputs": [
        {
          "output_type": "execute_result",
          "data": {
            "text/plain": [
              "4.0    161783\n",
              "5.0    152642\n",
              "3.0     77925\n",
              "1.0     69592\n",
              "2.0     29134\n",
              "3.5     25087\n",
              "4.5     20943\n",
              "2.5      7602\n",
              "1.5      4110\n",
              "Name: score, dtype: int64"
            ]
          },
          "metadata": {},
          "execution_count": 27
        }
      ]
    },
    {
      "cell_type": "markdown",
      "metadata": {
        "id": "wiVkKDA62rwr"
      },
      "source": [
        "Clearly this is categorical data, with some heavy class imbalance. This is something to address if you want to improve performance. We will go ahead and encode that into binary labels:"
      ]
    },
    {
      "cell_type": "code",
      "metadata": {
        "trusted": true,
        "id": "j5JIOfBe2rwr",
        "colab": {
          "base_uri": "https://localhost:8080/",
          "height": 202
        },
        "outputId": "21535959-cb6f-4c46-c358-12f5a46a65b7"
      },
      "source": [
        "dummies = pd.get_dummies(ratings_df['score'])\n",
        "dummies.head()"
      ],
      "execution_count": null,
      "outputs": [
        {
          "output_type": "execute_result",
          "data": {
            "text/html": [
              "<div>\n",
              "<style scoped>\n",
              "    .dataframe tbody tr th:only-of-type {\n",
              "        vertical-align: middle;\n",
              "    }\n",
              "\n",
              "    .dataframe tbody tr th {\n",
              "        vertical-align: top;\n",
              "    }\n",
              "\n",
              "    .dataframe thead th {\n",
              "        text-align: right;\n",
              "    }\n",
              "</style>\n",
              "<table border=\"1\" class=\"dataframe\">\n",
              "  <thead>\n",
              "    <tr style=\"text-align: right;\">\n",
              "      <th></th>\n",
              "      <th>1.0</th>\n",
              "      <th>1.5</th>\n",
              "      <th>2.0</th>\n",
              "      <th>2.5</th>\n",
              "      <th>3.0</th>\n",
              "      <th>3.5</th>\n",
              "      <th>4.0</th>\n",
              "      <th>4.5</th>\n",
              "      <th>5.0</th>\n",
              "    </tr>\n",
              "  </thead>\n",
              "  <tbody>\n",
              "    <tr>\n",
              "      <th>0</th>\n",
              "      <td>0</td>\n",
              "      <td>0</td>\n",
              "      <td>0</td>\n",
              "      <td>0</td>\n",
              "      <td>0</td>\n",
              "      <td>0</td>\n",
              "      <td>1</td>\n",
              "      <td>0</td>\n",
              "      <td>0</td>\n",
              "    </tr>\n",
              "    <tr>\n",
              "      <th>1</th>\n",
              "      <td>0</td>\n",
              "      <td>0</td>\n",
              "      <td>0</td>\n",
              "      <td>0</td>\n",
              "      <td>0</td>\n",
              "      <td>0</td>\n",
              "      <td>1</td>\n",
              "      <td>0</td>\n",
              "      <td>0</td>\n",
              "    </tr>\n",
              "    <tr>\n",
              "      <th>2</th>\n",
              "      <td>0</td>\n",
              "      <td>0</td>\n",
              "      <td>1</td>\n",
              "      <td>0</td>\n",
              "      <td>0</td>\n",
              "      <td>0</td>\n",
              "      <td>0</td>\n",
              "      <td>0</td>\n",
              "      <td>0</td>\n",
              "    </tr>\n",
              "    <tr>\n",
              "      <th>3</th>\n",
              "      <td>0</td>\n",
              "      <td>0</td>\n",
              "      <td>0</td>\n",
              "      <td>0</td>\n",
              "      <td>0</td>\n",
              "      <td>0</td>\n",
              "      <td>1</td>\n",
              "      <td>0</td>\n",
              "      <td>0</td>\n",
              "    </tr>\n",
              "    <tr>\n",
              "      <th>4</th>\n",
              "      <td>0</td>\n",
              "      <td>0</td>\n",
              "      <td>0</td>\n",
              "      <td>0</td>\n",
              "      <td>0</td>\n",
              "      <td>0</td>\n",
              "      <td>0</td>\n",
              "      <td>0</td>\n",
              "      <td>1</td>\n",
              "    </tr>\n",
              "  </tbody>\n",
              "</table>\n",
              "</div>"
            ],
            "text/plain": [
              "   1.0  1.5  2.0  2.5  3.0  3.5  4.0  4.5  5.0\n",
              "0    0    0    0    0    0    0    1    0    0\n",
              "1    0    0    0    0    0    0    1    0    0\n",
              "2    0    0    1    0    0    0    0    0    0\n",
              "3    0    0    0    0    0    0    1    0    0\n",
              "4    0    0    0    0    0    0    0    0    1"
            ]
          },
          "metadata": {},
          "execution_count": 28
        }
      ]
    },
    {
      "cell_type": "markdown",
      "metadata": {
        "id": "kyKadAhG2rwt"
      },
      "source": [
        "## Train Test Split\n",
        "\n",
        "Finally, we split the data into train and test sets; the latter will be used to evaluate our model."
      ]
    },
    {
      "cell_type": "code",
      "metadata": {
        "trusted": true,
        "id": "DiPv9JRN2rwt"
      },
      "source": [
        "x_train, x_test, y_train, y_test = train_test_split(\n",
        "    ratings_df['review'], \n",
        "    dummies, \n",
        "    test_size=0.1, random_state=19\n",
        ")"
      ],
      "execution_count": null,
      "outputs": []
    },
    {
      "cell_type": "markdown",
      "metadata": {
        "id": "fRfPOHbY2rwv"
      },
      "source": [
        "# Building an LSTM Model\n",
        "\n",
        "At this point, we are ready to build our model. Similar to the original kernel, we will go through the following steps:\n",
        "1. Fit the Keras Tokenizer\n",
        "2. Build an embedding matrix\n",
        "3. Tokenize and pad our training data\n",
        "4. Train the model\n",
        "\n",
        "Once we are done training the model, we evaluate how well it performs. This part is covered in the next section."
      ]
    },
    {
      "cell_type": "markdown",
      "metadata": {
        "id": "H99oQFNa2rwv"
      },
      "source": [
        "## Helper functions to create fasttext embedding"
      ]
    },
    {
      "cell_type": "code",
      "metadata": {
        "trusted": true,
        "id": "PbZlrelS2rwv"
      },
      "source": [
        "def build_matrix(word_index, path):\n",
        "    def get_coefs(word, *arr):\n",
        "        return word, np.asarray(arr, dtype='float32')\n",
        "\n",
        "    def load_embeddings(path):\n",
        "        with open(path) as f:\n",
        "            embedding_index = {}\n",
        "            \n",
        "            for line in tqdm(f):\n",
        "                word, arr = get_coefs(*line.strip().split(' '))    \n",
        "                if word in word_index:\n",
        "                    embedding_index[word] = arr\n",
        "            \n",
        "        return embedding_index\n",
        "\n",
        "    embedding_index = load_embeddings(path)\n",
        "    embedding_matrix = np.zeros((len(word_index) + 1, 300))\n",
        "    \n",
        "    for word, i in tqdm(word_index.items()):\n",
        "        try:\n",
        "            embedding_matrix[i] = embedding_index[word]\n",
        "        except KeyError:\n",
        "            pass\n",
        "    return embedding_matrix"
      ],
      "execution_count": null,
      "outputs": []
    },
    {
      "cell_type": "code",
      "metadata": {
        "trusted": true,
        "id": "V4kS_2v12rwx"
      },
      "source": [
        "def build_model(embedding_matrix):\n",
        "    words = Input(shape=(None,))\n",
        "    x = Embedding(*embedding_matrix.shape, weights=[embedding_matrix], trainable=False)(words)\n",
        "    x = SpatialDropout1D(0.3)(x)\n",
        "    x = Bidirectional(CuDNNLSTM(256, return_sequences=True))(x)\n",
        "\n",
        "    hidden = concatenate([\n",
        "        GlobalMaxPooling1D()(x),\n",
        "        GlobalAveragePooling1D()(x),\n",
        "    ])\n",
        "    hidden = Dense(512, activation='relu')(hidden)\n",
        "    result = Dense(9, activation='softmax')(hidden)\n",
        "    \n",
        "    model = Model(inputs=words, outputs=result)\n",
        "    model.compile(\n",
        "        loss='categorical_crossentropy', \n",
        "        optimizer='adam',\n",
        "        metrics=['accuracy']\n",
        "    )\n",
        "\n",
        "    return model"
      ],
      "execution_count": null,
      "outputs": []
    },
    {
      "cell_type": "markdown",
      "metadata": {
        "id": "Opgr4erW2rw0"
      },
      "source": [
        "## Creating the tokenizer"
      ]
    },
    {
      "cell_type": "code",
      "metadata": {
        "trusted": true,
        "id": "-vnpP5kV2rw1",
        "colab": {
          "base_uri": "https://localhost:8080/"
        },
        "outputId": "48541b55-3e0b-4fba-fe83-9bdea482ba81"
      },
      "source": [
        "%%time\n",
        "CHARS_TO_REMOVE = '!\"#$%&()*+,-./:;<=>?@[\\\\]^_`{|}~\\t\\n“”’\\'∞θ÷α•à−β∅³π‘₹´°£€\\×™√²—'\n",
        "tokenizer = text.Tokenizer(filters=CHARS_TO_REMOVE)\n",
        "tokenizer.fit_on_texts(list(x_train) + list(x_test))"
      ],
      "execution_count": null,
      "outputs": [
        {
          "output_type": "stream",
          "name": "stdout",
          "text": [
            "CPU times: user 21 s, sys: 49.8 ms, total: 21.1 s\n",
            "Wall time: 21.1 s\n"
          ]
        }
      ]
    },
    {
      "cell_type": "code",
      "metadata": {
        "colab": {
          "base_uri": "https://localhost:8080/"
        },
        "id": "Bo2hZqT5dp3V",
        "outputId": "74b9c7f4-f9e9-49bc-974e-51e2510e2cf9"
      },
      "source": [
        "!unzip \"gdrive/MyDrive/crawl-300d-2M.vec.zip\" -d \"crawl-300d-2M\""
      ],
      "execution_count": null,
      "outputs": [
        {
          "output_type": "stream",
          "name": "stdout",
          "text": [
            "Archive:  gdrive/MyDrive/crawl-300d-2M.vec.zip\n",
            "  inflating: crawl-300d-2M/crawl-300d-2M.vec  \n"
          ]
        }
      ]
    },
    {
      "cell_type": "code",
      "metadata": {
        "trusted": true,
        "id": "2T7XnmdF2rw3",
        "colab": {
          "base_uri": "https://localhost:8080/"
        },
        "outputId": "c917fe18-3bd7-4a78-b211-7f233d37c962"
      },
      "source": [
        "embedding_matrix = build_matrix(tokenizer.word_index, 'crawl-300d-2M/crawl-300d-2M.vec')"
      ],
      "execution_count": null,
      "outputs": [
        {
          "output_type": "stream",
          "name": "stderr",
          "text": [
            "2000001it [02:33, 13006.25it/s]\n",
            "100%|██████████| 77816/77816 [00:00<00:00, 664304.23it/s]\n"
          ]
        }
      ]
    },
    {
      "cell_type": "code",
      "metadata": {
        "trusted": true,
        "id": "kpp6ylXO2rw5"
      },
      "source": [
        "x_train = tokenizer.texts_to_sequences(x_train)\n",
        "x_test = tokenizer.texts_to_sequences(x_test)\n",
        "x_train = sequence.pad_sequences(x_train, maxlen=384)\n",
        "x_test = sequence.pad_sequences(x_test, maxlen=384)"
      ],
      "execution_count": null,
      "outputs": []
    },
    {
      "cell_type": "markdown",
      "metadata": {
        "id": "WvMBxKcY2rw7"
      },
      "source": [
        "## Training"
      ]
    },
    {
      "cell_type": "code",
      "metadata": {
        "id": "1h_4eeXJwgmv"
      },
      "source": [
        "import tensorflow as tf"
      ],
      "execution_count": null,
      "outputs": []
    },
    {
      "cell_type": "code",
      "metadata": {
        "colab": {
          "base_uri": "https://localhost:8080/"
        },
        "id": "37aBmQgBwYdO",
        "outputId": "e978b4db-aff5-4838-ec93-4a6358d62881"
      },
      "source": [
        "tf.test.is_gpu_available(\n",
        "    cuda_only=False,\n",
        "    min_cuda_compute_capability=None\n",
        ")"
      ],
      "execution_count": null,
      "outputs": [
        {
          "output_type": "stream",
          "name": "stdout",
          "text": [
            "WARNING:tensorflow:From <ipython-input-38-ebb74ce83619>:3: is_gpu_available (from tensorflow.python.framework.test_util) is deprecated and will be removed in a future version.\n",
            "Instructions for updating:\n",
            "Use `tf.config.list_physical_devices('GPU')` instead.\n"
          ]
        },
        {
          "output_type": "execute_result",
          "data": {
            "text/plain": [
              "True"
            ]
          },
          "metadata": {},
          "execution_count": 38
        }
      ]
    },
    {
      "cell_type": "code",
      "metadata": {
        "trusted": true,
        "id": "B5zBRI_Y2rw7",
        "colab": {
          "base_uri": "https://localhost:8080/"
        },
        "outputId": "32d57c8a-c969-408e-8ea4-8cab714a5a4b"
      },
      "source": [
        "model = build_model(embedding_matrix)\n",
        "model.summary()\n",
        "\n",
        "checkpoint = ModelCheckpoint(\n",
        "    'model.h5', \n",
        "    monitor='val_accuracy', \n",
        "    verbose=1, \n",
        "    save_best_only=True, \n",
        "    save_weights_only=False,\n",
        "    mode='auto'\n",
        ")\n",
        "\n",
        "history = model.fit(\n",
        "    x_train,\n",
        "    y_train,\n",
        "    batch_size=512,\n",
        "    callbacks=[checkpoint],\n",
        "    epochs=10,\n",
        "    validation_split=0.1\n",
        ")"
      ],
      "execution_count": null,
      "outputs": [
        {
          "output_type": "stream",
          "name": "stdout",
          "text": [
            "Model: \"model\"\n",
            "__________________________________________________________________________________________________\n",
            " Layer (type)                   Output Shape         Param #     Connected to                     \n",
            "==================================================================================================\n",
            " input_1 (InputLayer)           [(None, None)]       0           []                               \n",
            "                                                                                                  \n",
            " embedding (Embedding)          (None, None, 300)    23345100    ['input_1[0][0]']                \n",
            "                                                                                                  \n",
            " spatial_dropout1d (SpatialDrop  (None, None, 300)   0           ['embedding[0][0]']              \n",
            " out1D)                                                                                           \n",
            "                                                                                                  \n",
            " bidirectional (Bidirectional)  (None, None, 512)    1142784     ['spatial_dropout1d[0][0]']      \n",
            "                                                                                                  \n",
            " global_max_pooling1d (GlobalMa  (None, 512)         0           ['bidirectional[0][0]']          \n",
            " xPooling1D)                                                                                      \n",
            "                                                                                                  \n",
            " global_average_pooling1d (Glob  (None, 512)         0           ['bidirectional[0][0]']          \n",
            " alAveragePooling1D)                                                                              \n",
            "                                                                                                  \n",
            " concatenate (Concatenate)      (None, 1024)         0           ['global_max_pooling1d[0][0]',   \n",
            "                                                                  'global_average_pooling1d[0][0]'\n",
            "                                                                 ]                                \n",
            "                                                                                                  \n",
            " dense (Dense)                  (None, 512)          524800      ['concatenate[0][0]']            \n",
            "                                                                                                  \n",
            " dense_1 (Dense)                (None, 9)            4617        ['dense[0][0]']                  \n",
            "                                                                                                  \n",
            "==================================================================================================\n",
            "Total params: 25,017,301\n",
            "Trainable params: 1,672,201\n",
            "Non-trainable params: 23,345,100\n",
            "__________________________________________________________________________________________________\n",
            "Epoch 1/10\n",
            "869/869 [==============================] - ETA: 0s - loss: 1.1492 - accuracy: 0.5627\n",
            "Epoch 00001: val_accuracy improved from -inf to 0.64269, saving model to model.h5\n",
            "869/869 [==============================] - 910s 1s/step - loss: 1.1492 - accuracy: 0.5627 - val_loss: 0.9542 - val_accuracy: 0.6427\n",
            "Epoch 2/10\n",
            "869/869 [==============================] - ETA: 0s - loss: 0.8919 - accuracy: 0.6692\n",
            "Epoch 00002: val_accuracy improved from 0.64269 to 0.74317, saving model to model.h5\n",
            "869/869 [==============================] - 883s 1s/step - loss: 0.8919 - accuracy: 0.6692 - val_loss: 0.7183 - val_accuracy: 0.7432\n",
            "Epoch 3/10\n",
            "869/869 [==============================] - ETA: 0s - loss: 0.7230 - accuracy: 0.7398\n",
            "Epoch 00003: val_accuracy improved from 0.74317 to 0.80188, saving model to model.h5\n",
            "869/869 [==============================] - 878s 1s/step - loss: 0.7230 - accuracy: 0.7398 - val_loss: 0.5744 - val_accuracy: 0.8019\n",
            "Epoch 4/10\n",
            "869/869 [==============================] - ETA: 0s - loss: 0.6068 - accuracy: 0.7859\n",
            "Epoch 00004: val_accuracy improved from 0.80188 to 0.84275, saving model to model.h5\n",
            "869/869 [==============================] - 877s 1s/step - loss: 0.6068 - accuracy: 0.7859 - val_loss: 0.4724 - val_accuracy: 0.8428\n",
            "Epoch 5/10\n",
            "869/869 [==============================] - ETA: 0s - loss: 0.5255 - accuracy: 0.8163\n",
            "Epoch 00005: val_accuracy improved from 0.84275 to 0.86500, saving model to model.h5\n",
            "869/869 [==============================] - 883s 1s/step - loss: 0.5255 - accuracy: 0.8163 - val_loss: 0.4099 - val_accuracy: 0.8650\n",
            "Epoch 6/10\n",
            "869/869 [==============================] - ETA: 0s - loss: 0.4689 - accuracy: 0.8362\n",
            "Epoch 00006: val_accuracy improved from 0.86500 to 0.87893, saving model to model.h5\n",
            "869/869 [==============================] - 885s 1s/step - loss: 0.4689 - accuracy: 0.8362 - val_loss: 0.3684 - val_accuracy: 0.8789\n",
            "Epoch 7/10\n",
            "869/869 [==============================] - ETA: 0s - loss: 0.4175 - accuracy: 0.8543\n",
            "Epoch 00007: val_accuracy improved from 0.87893 to 0.89495, saving model to model.h5\n",
            "869/869 [==============================] - 883s 1s/step - loss: 0.4175 - accuracy: 0.8543 - val_loss: 0.3291 - val_accuracy: 0.8949\n",
            "Epoch 8/10\n",
            "869/869 [==============================] - ETA: 0s - loss: 0.3825 - accuracy: 0.8669\n",
            "Epoch 00008: val_accuracy did not improve from 0.89495\n",
            "869/869 [==============================] - 880s 1s/step - loss: 0.3825 - accuracy: 0.8669 - val_loss: 0.3288 - val_accuracy: 0.8937\n",
            "Epoch 9/10\n",
            "869/869 [==============================] - ETA: 0s - loss: 0.3516 - accuracy: 0.8772\n",
            "Epoch 00009: val_accuracy improved from 0.89495 to 0.90643, saving model to model.h5\n",
            "869/869 [==============================] - 882s 1s/step - loss: 0.3516 - accuracy: 0.8772 - val_loss: 0.2917 - val_accuracy: 0.9064\n",
            "Epoch 10/10\n",
            "869/869 [==============================] - ETA: 0s - loss: 0.3286 - accuracy: 0.8844\n",
            "Epoch 00010: val_accuracy improved from 0.90643 to 0.91313, saving model to model.h5\n",
            "869/869 [==============================] - 881s 1s/step - loss: 0.3286 - accuracy: 0.8844 - val_loss: 0.2720 - val_accuracy: 0.9131\n"
          ]
        }
      ]
    },
    {
      "cell_type": "markdown",
      "metadata": {
        "id": "nmHrAeiY2rw9"
      },
      "source": [
        "# Evaluation"
      ]
    },
    {
      "cell_type": "markdown",
      "metadata": {
        "id": "4YHv2-DZ2rw9"
      },
      "source": [
        "## Training history\n",
        "\n",
        "Let's take a look at how well the model is training."
      ]
    },
    {
      "cell_type": "code",
      "metadata": {
        "trusted": true,
        "_kg_hide-input": true,
        "id": "1obq81Hu2rw9",
        "colab": {
          "base_uri": "https://localhost:8080/",
          "height": 530
        },
        "outputId": "d00800ee-63e9-4671-9615-c8219fafcb0b"
      },
      "source": [
        "with open('history.json', 'w') as f:\n",
        "    json.dump(history.history, f)\n",
        "\n",
        "history_df = pd.DataFrame(history.history)\n",
        "history_df[['loss', 'val_loss']].plot()\n",
        "history_df[['accuracy', 'val_accuracy']].plot()"
      ],
      "execution_count": null,
      "outputs": [
        {
          "output_type": "execute_result",
          "data": {
            "text/plain": [
              "<matplotlib.axes._subplots.AxesSubplot at 0x7f537d0fa610>"
            ]
          },
          "metadata": {},
          "execution_count": 37
        },
        {
          "output_type": "display_data",
          "data": {
            "image/png": "[encoded data removed]",
            "text/plain": [
              "<Figure size 432x288 with 1 Axes>"
            ]
          },
          "metadata": {
            "needs_background": "light"
          }
        },
        {
          "output_type": "display_data",
          "data": {
            "image/png": "[encoded data removed]",
            "text/plain": [
              "<Figure size 432x288 with 1 Axes>"
            ]
          },
          "metadata": {
            "needs_background": "light"
          }
        }
      ]
    },
    {
      "cell_type": "code",
      "metadata": {
        "id": "pCrqam3e13gP"
      },
      "source": [
        "from sklearn import metrics"
      ],
      "execution_count": null,
      "outputs": []
    },
    {
      "cell_type": "code",
      "metadata": {
        "id": "NhmdiUtV1FK1"
      },
      "source": [
        "predict_test = model.predict(x_test)\n",
        "predict_train = model.predict(x_train)"
      ],
      "execution_count": null,
      "outputs": []
    },
    {
      "cell_type": "code",
      "metadata": {
        "colab": {
          "base_uri": "https://localhost:8080/"
        },
        "id": "JD-Wmcj34xB7",
        "outputId": "b4b50570-fe53-405d-cc94-8014fdafeb1d"
      },
      "source": [
        "predict_test"
      ],
      "execution_count": null,
      "outputs": [
        {
          "output_type": "execute_result",
          "data": {
            "text/plain": [
              "array([[2.4689834e-05, 1.0823274e-07, 3.0580592e-05, ..., 2.3775175e-03,\n",
              "        7.9739717e-04, 9.9666816e-01],\n",
              "       [7.6354980e-02, 5.0344155e-03, 2.3261440e-01, ..., 4.5354120e-02,\n",
              "        8.9797052e-04, 9.7460480e-04],\n",
              "       [4.9437593e-05, 5.6984646e-07, 2.6579480e-06, ..., 4.8026852e-02,\n",
              "        3.0984100e-02, 9.2083675e-01],\n",
              "       ...,\n",
              "       [6.5755812e-05, 2.2340504e-12, 2.3714867e-03, ..., 9.8972565e-01,\n",
              "        2.2921205e-09, 2.3549162e-04],\n",
              "       [3.8999475e-09, 1.5582771e-11, 1.0349806e-06, ..., 9.9858391e-01,\n",
              "        6.7083597e-06, 4.1910642e-04],\n",
              "       [1.7319027e-12, 2.1068892e-15, 6.9171604e-12, ..., 1.0217304e-03,\n",
              "        8.7972009e-04, 9.9809831e-01]], dtype=float32)"
            ]
          },
          "metadata": {},
          "execution_count": 40
        }
      ]
    },
    {
      "cell_type": "code",
      "metadata": {
        "colab": {
          "base_uri": "https://localhost:8080/"
        },
        "id": "xR0ZyMNs5E2n",
        "outputId": "3c553336-3a3d-480d-9ef0-2acd6334a9d4"
      },
      "source": [
        "predict_train"
      ],
      "execution_count": null,
      "outputs": [
        {
          "output_type": "execute_result",
          "data": {
            "text/plain": [
              "array([[1.3659445e-12, 2.1171247e-13, 9.1992525e-12, ..., 1.4225695e-03,\n",
              "        2.8333522e-04, 9.9828929e-01],\n",
              "       [2.3897488e-01, 7.0844781e-06, 4.0348998e-01, ..., 1.7832662e-01,\n",
              "        7.4618983e-06, 4.8598975e-02],\n",
              "       [3.6229626e-06, 1.9326396e-09, 4.3247263e-05, ..., 1.8642258e-02,\n",
              "        5.0582348e-05, 9.8008394e-01],\n",
              "       ...,\n",
              "       [2.9675574e-03, 1.5988167e-06, 9.8181939e-01, ..., 2.6874333e-05,\n",
              "        2.1885324e-14, 8.3298767e-12],\n",
              "       [6.0510949e-08, 2.1091769e-11, 1.2221953e-02, ..., 3.9009628e-05,\n",
              "        1.2307390e-15, 5.6576532e-15],\n",
              "       [5.1339885e-07, 9.5716324e-09, 2.4934346e-04, ..., 4.0810235e-04,\n",
              "        3.8030760e-07, 1.2478288e-06]], dtype=float32)"
            ]
          },
          "metadata": {},
          "execution_count": 41
        }
      ]
    },
    {
      "cell_type": "code",
      "metadata": {
        "colab": {
          "base_uri": "https://localhost:8080/"
        },
        "id": "g9ufk6rj1759",
        "outputId": "6a660e09-1040-42cb-8c47-2375f935c0a0"
      },
      "source": [
        "print(\"Test R2: {0:.4f}\".format(metrics.r2_score(y_test, predict_test)))\n",
        "print(\"Train R2: {0:.4f}\".format(metrics.r2_score(y_train, predict_train)))\n",
        "print()\n",
        "print(\"Test MSE: {0:.4f}\".format(metrics.mean_squared_error(y_test, predict_test)))\n",
        "print(\"Train MSE: {0:.4f}\".format(metrics.mean_squared_error(y_train, predict_train)))\n",
        "print()\n",
        "print(\"Test RMSE: {0:.4f}\".format(metrics.mean_squared_error(y_test, predict_test) ** 0.5))\n",
        "print(\"Train RMSE: {0:.4f}\".format(metrics.mean_squared_error(y_train, predict_train) ** 0.5))\n",
        "print()\n"
      ],
      "execution_count": null,
      "outputs": [
        {
          "output_type": "stream",
          "name": "stdout",
          "text": [
            "Test R2: 0.8322\n",
            "Train R2: 0.8899\n",
            "\n",
            "Test MSE: 0.0144\n",
            "Train MSE: 0.0098\n",
            "\n",
            "Test RMSE: 0.1200\n",
            "Train RMSE: 0.0989\n",
            "\n"
          ]
        }
      ]
    },
    {
      "cell_type": "markdown",
      "metadata": {
        "id": "zVDU663720-4"
      },
      "source": [
        "## End of the notebook"
      ]
    }
  ]
}